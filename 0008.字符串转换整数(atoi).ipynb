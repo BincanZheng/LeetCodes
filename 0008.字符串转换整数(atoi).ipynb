{
 "cells": [
  {
   "cell_type": "markdown",
   "metadata": {},
   "source": [
    "请你来实现一个 atoi 函数，使其能将字符串转换成整数。  \n",
    "  \n",
    "首先，该函数会根据需要丢弃无用的开头空格字符，直到寻找到第一个非空格的字符为止。接下来的转化规则如下：  \n",
    "  \n",
    "- 如果第一个非空字符为正或者负号时，则将该符号与之后面尽可能多的连续数字字符组合起来，形成一个有符号整数。  \n",
    "- 假如第一个非空字符是数字，则直接将其与之后连续的数字字符组合起来，形成一个整数。  \n",
    "- 该字符串在有效的整数部分之后也可能会存在多余的字符，那么这些字符可以被忽略，它们对函数不应该造成影响。  \n",
    "注意：假如该字符串中的第一个非空格字符不是一个有效整数字符、字符串为空或字符串仅包含空白字符时，则你的函数不需要进行转换，即无法进行有效转换。  \n",
    "  \n",
    "在任何情况下，若函数不能进行有效的转换时，请返回 0 。  \n",
    "  \n",
    "**提示：**  \n",
    "  \n",
    "- 本题中的空白字符只包括空格字符 ' ' 。  \n",
    "- 假设我们的环境只能存储 32 位大小的有符号整数，那么其数值范围为 [−231,  231 − 1]。如果数值超过这个范围，请返回  INT_MAX (231 − 1) 或 INT_MIN (−231) 。  \n",
    "   \n",
    "  \n",
    "**示例 1:**  \n",
    "输入: \"42\"  \n",
    "输出: 42  \n",
    "  \n",
    "**示例 2:**  \n",
    "输入: \"&nbsp;&nbsp;&nbsp;&nbsp;&nbsp;-42\"  \n",
    "输出: -42  \n",
    "解释: 第一个非空白字符为 '-', 它是一个负号。  \n",
    "     我们尽可能将负号与后面所有连续出现的数字组合起来，最后得到 -42 。  \n",
    "     \n",
    "**示例 3:**  \n",
    "输入: \"4193 with words\"  \n",
    "输出: 4193  \n",
    "解释: 转换截止于数字 '3' ，因为它的下一个字符不为数字。  \n",
    "  \n",
    "**示例 4:**  \n",
    "输入: \"words and 987\"  \n",
    "输出: 0  \n",
    "解释: 第一个非空字符是 'w', 但它不是数字或正、负号。  \n",
    "     因此无法执行有效的转换。  \n",
    "     \n",
    "**示例 5:**  \n",
    "输入: \"-91283472332\"  \n",
    "输出: -2147483648  \n",
    "解释: 数字 \"-91283472332\" 超过 32 位有符号整数范围。   \n",
    "     因此返回 INT_MIN (−231) 。  \n",
    "   \n",
    "来源：力扣（LeetCode）  \n",
    "链接：https://leetcode-cn.com/problems/string-to-integer-atoi  \n",
    "著作权归领扣网络所有。商业转载请联系官方授权，非商业转载请注明出处。  "
   ]
  },
  {
   "cell_type": "code",
   "execution_count": 50,
   "metadata": {
    "ExecuteTime": {
     "end_time": "2020-07-17T02:06:51.518274Z",
     "start_time": "2020-07-17T02:06:51.506272Z"
    },
    "code_folding": []
   },
   "outputs": [],
   "source": [
    "class Solution:\n",
    "    def myAtoi(self, s: str) -> int:\n",
    "        while (len(s)!=0) and (s[0] == ' '):\n",
    "            s = s[1:]\n",
    "            \n",
    "        if len(s) == 0:\n",
    "            return 0\n",
    "        \n",
    "        if s[0] in ['-','+'] and len(s)>1:\n",
    "            if s[1].isdigit():\n",
    "                num = int(s[0:2])\n",
    "                try:\n",
    "                    for slength in range(3,len(s)+1):\n",
    "                        num = int(s[0:slength])\n",
    "                except:\n",
    "                    pass\n",
    "                \n",
    "                if num < -2147483648:\n",
    "                    return -2147483648\n",
    "                elif num > 2147483647:\n",
    "                    return 2147483647\n",
    "                else:\n",
    "                    return num\n",
    "            else:\n",
    "                return 0\n",
    "        elif s[0].isdigit():\n",
    "            num = int(s[0:1])\n",
    "            try:\n",
    "                for slength in range(2,len(s)+1):\n",
    "                    num = int(s[0:slength])\n",
    "            except:\n",
    "                pass\n",
    "\n",
    "            if num < -2147483648:\n",
    "                return -2147483648\n",
    "            elif num > 2147483647:\n",
    "                return 2147483647\n",
    "            else:\n",
    "                return num\n",
    "        else:\n",
    "            return 0"
   ]
  },
  {
   "cell_type": "code",
   "execution_count": 38,
   "metadata": {
    "ExecuteTime": {
     "end_time": "2020-07-17T02:05:07.566538Z",
     "start_time": "2020-07-17T02:05:07.563549Z"
    }
   },
   "outputs": [],
   "source": [
    "# 标准答案\n",
    "# class Solution:\n",
    "#     def myAtoi(self, s: str) -> int:\n",
    "#         return max(min(int(*re.findall('^[\\+\\-]?\\d+', s.lstrip())), 2**31 - 1), -2**31)"
   ]
  },
  {
   "cell_type": "code",
   "execution_count": 39,
   "metadata": {
    "ExecuteTime": {
     "end_time": "2020-07-17T02:05:07.804903Z",
     "start_time": "2020-07-17T02:05:07.799915Z"
    }
   },
   "outputs": [
    {
     "data": {
      "text/plain": [
       "0"
      ]
     },
     "execution_count": 39,
     "metadata": {},
     "output_type": "execute_result"
    }
   ],
   "source": [
    "s = ' '\n",
    "test = Solution\n",
    "test.myAtoi(test,s)"
   ]
  },
  {
   "cell_type": "code",
   "execution_count": 40,
   "metadata": {
    "ExecuteTime": {
     "end_time": "2020-07-17T02:05:08.716447Z",
     "start_time": "2020-07-17T02:05:08.710464Z"
    }
   },
   "outputs": [
    {
     "data": {
      "text/plain": [
       "42"
      ]
     },
     "execution_count": 40,
     "metadata": {},
     "output_type": "execute_result"
    }
   ],
   "source": [
    "s = '42'\n",
    "test = Solution\n",
    "test.myAtoi(test,s)"
   ]
  },
  {
   "cell_type": "code",
   "execution_count": 41,
   "metadata": {
    "ExecuteTime": {
     "end_time": "2020-07-17T02:05:09.308107Z",
     "start_time": "2020-07-17T02:05:09.303213Z"
    }
   },
   "outputs": [
    {
     "data": {
      "text/plain": [
       "-42"
      ]
     },
     "execution_count": 41,
     "metadata": {},
     "output_type": "execute_result"
    }
   ],
   "source": [
    "s = \"     -42\"\n",
    "test = Solution\n",
    "test.myAtoi(test,s)"
   ]
  },
  {
   "cell_type": "code",
   "execution_count": 42,
   "metadata": {
    "ExecuteTime": {
     "end_time": "2020-07-17T02:05:10.019907Z",
     "start_time": "2020-07-17T02:05:10.014922Z"
    }
   },
   "outputs": [
    {
     "data": {
      "text/plain": [
       "4193"
      ]
     },
     "execution_count": 42,
     "metadata": {},
     "output_type": "execute_result"
    }
   ],
   "source": [
    "s = \"4193 with words\"\n",
    "test = Solution\n",
    "test.myAtoi(test,s)"
   ]
  },
  {
   "cell_type": "code",
   "execution_count": 43,
   "metadata": {
    "ExecuteTime": {
     "end_time": "2020-07-17T02:05:10.678314Z",
     "start_time": "2020-07-17T02:05:10.672292Z"
    }
   },
   "outputs": [
    {
     "data": {
      "text/plain": [
       "0"
      ]
     },
     "execution_count": 43,
     "metadata": {},
     "output_type": "execute_result"
    }
   ],
   "source": [
    "s = \"words and 987\"\n",
    "test = Solution\n",
    "test.myAtoi(test,s)"
   ]
  },
  {
   "cell_type": "code",
   "execution_count": 44,
   "metadata": {
    "ExecuteTime": {
     "end_time": "2020-07-17T02:05:11.898237Z",
     "start_time": "2020-07-17T02:05:11.893229Z"
    }
   },
   "outputs": [
    {
     "data": {
      "text/plain": [
       "-2147483648"
      ]
     },
     "execution_count": 44,
     "metadata": {},
     "output_type": "execute_result"
    }
   ],
   "source": [
    "s = \"-91283472332\"\n",
    "test = Solution\n",
    "test.myAtoi(test,s)"
   ]
  },
  {
   "cell_type": "code",
   "execution_count": 45,
   "metadata": {
    "ExecuteTime": {
     "end_time": "2020-07-17T02:05:12.754943Z",
     "start_time": "2020-07-17T02:05:12.748959Z"
    }
   },
   "outputs": [
    {
     "data": {
      "text/plain": [
       "0"
      ]
     },
     "execution_count": 45,
     "metadata": {},
     "output_type": "execute_result"
    }
   ],
   "source": [
    "s = '+'\n",
    "test = Solution\n",
    "test.myAtoi(test,s)"
   ]
  },
  {
   "cell_type": "code",
   "execution_count": 46,
   "metadata": {
    "ExecuteTime": {
     "end_time": "2020-07-17T02:05:13.774240Z",
     "start_time": "2020-07-17T02:05:13.768230Z"
    }
   },
   "outputs": [
    {
     "data": {
      "text/plain": [
       "0"
      ]
     },
     "execution_count": 46,
     "metadata": {},
     "output_type": "execute_result"
    }
   ],
   "source": [
    "s = \"   +0 123\"\n",
    "test = Solution\n",
    "test.myAtoi(test,s)"
   ]
  },
  {
   "cell_type": "code",
   "execution_count": 47,
   "metadata": {
    "ExecuteTime": {
     "end_time": "2020-07-17T02:05:14.307418Z",
     "start_time": "2020-07-17T02:05:14.301329Z"
    }
   },
   "outputs": [
    {
     "data": {
      "text/plain": [
       "-1"
      ]
     },
     "execution_count": 47,
     "metadata": {},
     "output_type": "execute_result"
    }
   ],
   "source": [
    "s = \"-000000000000001\"\n",
    "test = Solution\n",
    "test.myAtoi(test,s)"
   ]
  },
  {
   "cell_type": "code",
   "execution_count": 48,
   "metadata": {
    "ExecuteTime": {
     "end_time": "2020-07-17T02:05:15.409529Z",
     "start_time": "2020-07-17T02:05:15.400485Z"
    }
   },
   "outputs": [
    {
     "data": {
      "text/plain": [
       "12345678"
      ]
     },
     "execution_count": 48,
     "metadata": {},
     "output_type": "execute_result"
    }
   ],
   "source": [
    "s = \"  0000000000012345678\"\n",
    "test = Solution\n",
    "test.myAtoi(test,s)"
   ]
  },
  {
   "cell_type": "code",
   "execution_count": 49,
   "metadata": {
    "ExecuteTime": {
     "end_time": "2020-07-17T02:05:15.998890Z",
     "start_time": "2020-07-17T02:05:15.993892Z"
    }
   },
   "outputs": [
    {
     "data": {
      "text/plain": [
       "4500"
      ]
     },
     "execution_count": 49,
     "metadata": {},
     "output_type": "execute_result"
    }
   ],
   "source": [
    "s = \"     +004500\"\n",
    "test = Solution\n",
    "test.myAtoi(test,s)"
   ]
  },
  {
   "cell_type": "code",
   "execution_count": 51,
   "metadata": {
    "ExecuteTime": {
     "end_time": "2020-07-17T02:07:02.460576Z",
     "start_time": "2020-07-17T02:07:02.454593Z"
    }
   },
   "outputs": [
    {
     "data": {
      "text/plain": [
       "0"
      ]
     },
     "execution_count": 51,
     "metadata": {},
     "output_type": "execute_result"
    }
   ],
   "source": [
    "s = \"+-2\"\n",
    "test = Solution\n",
    "test.myAtoi(test,s)"
   ]
  },
  {
   "cell_type": "code",
   "execution_count": null,
   "metadata": {},
   "outputs": [],
   "source": []
  }
 ],
 "metadata": {
  "kernelspec": {
   "display_name": "Python 3",
   "language": "python",
   "name": "python3"
  },
  "language_info": {
   "codemirror_mode": {
    "name": "ipython",
    "version": 3
   },
   "file_extension": ".py",
   "mimetype": "text/x-python",
   "name": "python",
   "nbconvert_exporter": "python",
   "pygments_lexer": "ipython3",
   "version": "3.7.4"
  },
  "toc": {
   "base_numbering": 1,
   "nav_menu": {},
   "number_sections": true,
   "sideBar": true,
   "skip_h1_title": false,
   "title_cell": "Table of Contents",
   "title_sidebar": "Contents",
   "toc_cell": false,
   "toc_position": {},
   "toc_section_display": true,
   "toc_window_display": false
  },
  "varInspector": {
   "cols": {
    "lenName": 16,
    "lenType": 16,
    "lenVar": 40
   },
   "kernels_config": {
    "python": {
     "delete_cmd_postfix": "",
     "delete_cmd_prefix": "del ",
     "library": "var_list.py",
     "varRefreshCmd": "print(var_dic_list())"
    },
    "r": {
     "delete_cmd_postfix": ") ",
     "delete_cmd_prefix": "rm(",
     "library": "var_list.r",
     "varRefreshCmd": "cat(var_dic_list()) "
    }
   },
   "types_to_exclude": [
    "module",
    "function",
    "builtin_function_or_method",
    "instance",
    "_Feature"
   ],
   "window_display": false
  }
 },
 "nbformat": 4,
 "nbformat_minor": 2
}
