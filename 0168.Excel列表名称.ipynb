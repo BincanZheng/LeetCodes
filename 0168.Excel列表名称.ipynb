{
 "cells": [
  {
   "cell_type": "markdown",
   "metadata": {},
   "source": [
    "例如，\n",
    "\n",
    "    1 -> A\n",
    "    2 -> B\n",
    "    3 -> C\n",
    "    ...\n",
    "    26 -> Z\n",
    "    27 -> AA\n",
    "    28 -> AB \n",
    "    ...\n",
    "\n",
    "**示例 1:**  \n",
    "输入: 1  \n",
    "输出: \"A\"  \n",
    "\n",
    "**示例 2:**  \n",
    "输入: 28  \n",
    "输出: \"AB\"  \n",
    "\n",
    "**示例 3:**  \n",
    "输入: 701  \n",
    "输出: \"ZY\"  "
   ]
  },
  {
   "cell_type": "code",
   "execution_count": 1,
   "metadata": {},
   "outputs": [],
   "source": [
    "class Solution:\n",
    "    def convertToTitle(self, n: int) -> str:\n",
    "        word = \"\"\n",
    "        while n>0:\n",
    "            print(n)\n",
    "            if n>26 and n/26!=n//26:\n",
    "                lastword_int = n % 26\n",
    "            elif n>26 and n/26==n//26:\n",
    "                lastword_int = 26\n",
    "            else:\n",
    "                lastword_int = n\n",
    "            \n",
    "            if n/26==n//26:\n",
    "                n=n//26-1\n",
    "            else:\n",
    "                n = n // 26\n",
    "            \n",
    "            lastword_str = chr(lastword_int+64)\n",
    "            word = lastword_str + word\n",
    "        return word"
   ]
  },
  {
   "cell_type": "code",
   "execution_count": 2,
   "metadata": {},
   "outputs": [],
   "source": [
    "test = Solution"
   ]
  },
  {
   "cell_type": "code",
   "execution_count": 3,
   "metadata": {},
   "outputs": [
    {
     "name": "stdout",
     "output_type": "stream",
     "text": [
      "1\n"
     ]
    },
    {
     "data": {
      "text/plain": [
       "'A'"
      ]
     },
     "execution_count": 3,
     "metadata": {},
     "output_type": "execute_result"
    }
   ],
   "source": [
    "test.convertToTitle(test,1)"
   ]
  },
  {
   "cell_type": "code",
   "execution_count": 4,
   "metadata": {},
   "outputs": [
    {
     "name": "stdout",
     "output_type": "stream",
     "text": [
      "28\n",
      "1\n"
     ]
    },
    {
     "data": {
      "text/plain": [
       "'AB'"
      ]
     },
     "execution_count": 4,
     "metadata": {},
     "output_type": "execute_result"
    }
   ],
   "source": [
    "test.convertToTitle(test,28)"
   ]
  },
  {
   "cell_type": "code",
   "execution_count": 5,
   "metadata": {},
   "outputs": [
    {
     "name": "stdout",
     "output_type": "stream",
     "text": [
      "701\n",
      "26\n"
     ]
    },
    {
     "data": {
      "text/plain": [
       "'ZY'"
      ]
     },
     "execution_count": 5,
     "metadata": {},
     "output_type": "execute_result"
    }
   ],
   "source": [
    "test.convertToTitle(test,701)"
   ]
  }
 ],
 "metadata": {
  "kernelspec": {
   "display_name": "Python 3",
   "language": "python",
   "name": "python3"
  },
  "language_info": {
   "codemirror_mode": {
    "name": "ipython",
    "version": 3
   },
   "file_extension": ".py",
   "mimetype": "text/x-python",
   "name": "python",
   "nbconvert_exporter": "python",
   "pygments_lexer": "ipython3",
   "version": "3.7.4"
  }
 },
 "nbformat": 4,
 "nbformat_minor": 2
}
