{
 "cells": [
  {
   "cell_type": "markdown",
   "metadata": {},
   "source": [
    "求解一个给定的方程，将x以字符串\"x=#value\"的形式返回。该方程仅包含'+'，' - '操作，变量 x 和其对应系数。  \n",
    "如果方程没有解，请返回“No solution”。  \n",
    "如果方程有无限解，则返回“Infinite solutions”。  \n",
    "如果方程中只有一个解，要保证返回值 x 是一个整数。  \n",
    "\n",
    "**示例 1：**  \n",
    "**输入**: \"x+5-3+x=6+x-2\"  \n",
    "**输出**: \"x=2\"  \n",
    "\n",
    "**示例 2:**  \n",
    "**输入**: \"x=x\"  \n",
    "**输出**: \"Infinite solutions\"  \n",
    "\n",
    "**示例 3:**  \n",
    "**输入**: \"2x=x\"  \n",
    "**输出**: \"x=0\"  \n",
    "\n",
    "**示例 4:**  \n",
    "**输入**: \"2x+3x-6x=x+2\"  \n",
    "**输出**: \"x=-1\"  \n",
    "\n",
    "**示例 5:**  \n",
    "**输入**: \"x=x+2\"  \n",
    "**输出**: \"No solution\"  \n",
    "\n",
    "来源：力扣（LeetCode）  \n",
    "链接：https://leetcode-cn.com/problems/solve-the-equation  \n",
    "著作权归领扣网络所有。商业转载请联系官方授权，非商业转载请注明出处。  "
   ]
  },
  {
   "cell_type": "code",
   "execution_count": 1,
   "metadata": {},
   "outputs": [],
   "source": [
    "class Solution:\n",
    "    def solveEquation(self, equation: str) -> str:\n",
    "        leq = equation.split('=')[0]\n",
    "        req = equation.split('=')[1]\n",
    "        lcoef = 0\n",
    "        lconstant = 0\n",
    "        for a in leq.split('+'):\n",
    "#             print(lconstant,lcoef)\n",
    "#             print(a.split(\"-\"))\n",
    "            i=1\n",
    "            for aa in a.split('-'):\n",
    "                try:\n",
    "                    if aa =='':aa='0'\n",
    "                    lconstant+=int(aa)*i\n",
    "                    i = -1\n",
    "                except:\n",
    "                    if aa == 'x': aa='1'\n",
    "                    lcoef+=int(aa.replace('x',''))*i\n",
    "                    i=-1\n",
    "        rcoef = 0\n",
    "        rconstant = 0\n",
    "        for a in req.split('+'):\n",
    "#             print(rconstant,rcoef)\n",
    "#             print(a.split(\"-\"))\n",
    "            i=1\n",
    "            for aa in a.split('-'):\n",
    "                try:\n",
    "                    if aa =='':aa='0'\n",
    "                    rconstant+=int(aa)*i\n",
    "                    i = -1\n",
    "                except:\n",
    "                    if aa == 'x': aa='1'\n",
    "                    rcoef+=int(aa.replace('x',''))*i\n",
    "                    i=-1\n",
    "        coef = lcoef-rcoef\n",
    "        constant = rconstant-lconstant\n",
    "#         print(str(lcoef)+'x+'+str(lconstant)+'='+str(rcoef)+'x+'+str(rconstant))\n",
    "        if coef == 0 and constant == 0:\n",
    "            return 'Infinite solutions'\n",
    "        if coef ==0 and constant != 0:\n",
    "            return 'No solution'\n",
    "        return 'x='+str(int(constant/coef))"
   ]
  },
  {
   "cell_type": "code",
   "execution_count": 2,
   "metadata": {},
   "outputs": [
    {
     "data": {
      "text/plain": [
       "'x=2'"
      ]
     },
     "execution_count": 2,
     "metadata": {},
     "output_type": "execute_result"
    }
   ],
   "source": [
    "eq = \"x+5-3+x=6+x-2\"\n",
    "test=Solution\n",
    "test.solveEquation(test,eq)"
   ]
  },
  {
   "cell_type": "code",
   "execution_count": 3,
   "metadata": {},
   "outputs": [
    {
     "data": {
      "text/plain": [
       "'Infinite solutions'"
      ]
     },
     "execution_count": 3,
     "metadata": {},
     "output_type": "execute_result"
    }
   ],
   "source": [
    "eq = \"x=x\"\n",
    "test=Solution\n",
    "test.solveEquation(test,eq)"
   ]
  },
  {
   "cell_type": "code",
   "execution_count": 4,
   "metadata": {},
   "outputs": [
    {
     "data": {
      "text/plain": [
       "'x=0'"
      ]
     },
     "execution_count": 4,
     "metadata": {},
     "output_type": "execute_result"
    }
   ],
   "source": [
    "eq = \"2x=x\"\n",
    "test=Solution\n",
    "test.solveEquation(test,eq)"
   ]
  },
  {
   "cell_type": "code",
   "execution_count": 5,
   "metadata": {},
   "outputs": [
    {
     "data": {
      "text/plain": [
       "'x=-1'"
      ]
     },
     "execution_count": 5,
     "metadata": {},
     "output_type": "execute_result"
    }
   ],
   "source": [
    "eq = \"2x+3x-6x=x+2\"\n",
    "test=Solution\n",
    "test.solveEquation(test,eq)"
   ]
  },
  {
   "cell_type": "code",
   "execution_count": 6,
   "metadata": {},
   "outputs": [
    {
     "data": {
      "text/plain": [
       "'No solution'"
      ]
     },
     "execution_count": 6,
     "metadata": {},
     "output_type": "execute_result"
    }
   ],
   "source": [
    "eq = \"x=x+2\"\n",
    "test=Solution\n",
    "test.solveEquation(test,eq)"
   ]
  },
  {
   "cell_type": "code",
   "execution_count": 7,
   "metadata": {},
   "outputs": [
    {
     "data": {
      "text/plain": [
       "'x=2'"
      ]
     },
     "execution_count": 7,
     "metadata": {},
     "output_type": "execute_result"
    }
   ],
   "source": [
    "eq = \"x=2\"\n",
    "test=Solution\n",
    "test.solveEquation(test,eq)"
   ]
  },
  {
   "cell_type": "code",
   "execution_count": 8,
   "metadata": {},
   "outputs": [
    {
     "data": {
      "text/plain": [
       "'x=2'"
      ]
     },
     "execution_count": 8,
     "metadata": {},
     "output_type": "execute_result"
    }
   ],
   "source": [
    "eq = \"2=x\"\n",
    "test=Solution\n",
    "test.solveEquation(test,eq)"
   ]
  },
  {
   "cell_type": "code",
   "execution_count": 9,
   "metadata": {},
   "outputs": [
    {
     "data": {
      "text/plain": [
       "'No solution'"
      ]
     },
     "execution_count": 9,
     "metadata": {},
     "output_type": "execute_result"
    }
   ],
   "source": [
    "eq = \"x+3=x+2\"\n",
    "test=Solution\n",
    "test.solveEquation(test,eq)"
   ]
  },
  {
   "cell_type": "code",
   "execution_count": 10,
   "metadata": {},
   "outputs": [
    {
     "data": {
      "text/plain": [
       "'Infinite solutions'"
      ]
     },
     "execution_count": 10,
     "metadata": {},
     "output_type": "execute_result"
    }
   ],
   "source": [
    "eq = \"1+1=2\"\n",
    "test=Solution\n",
    "test.solveEquation(test,eq)"
   ]
  },
  {
   "cell_type": "code",
   "execution_count": 11,
   "metadata": {},
   "outputs": [
    {
     "data": {
      "text/plain": [
       "'x=1'"
      ]
     },
     "execution_count": 11,
     "metadata": {},
     "output_type": "execute_result"
    }
   ],
   "source": [
    "eq = \"-1=-x\"\n",
    "test=Solution\n",
    "test.solveEquation(test,eq)"
   ]
  },
  {
   "cell_type": "code",
   "execution_count": null,
   "metadata": {},
   "outputs": [],
   "source": []
  }
 ],
 "metadata": {
  "kernelspec": {
   "display_name": "Python 3",
   "language": "python",
   "name": "python3"
  },
  "language_info": {
   "codemirror_mode": {
    "name": "ipython",
    "version": 3
   },
   "file_extension": ".py",
   "mimetype": "text/x-python",
   "name": "python",
   "nbconvert_exporter": "python",
   "pygments_lexer": "ipython3",
   "version": "3.7.4"
  }
 },
 "nbformat": 4,
 "nbformat_minor": 2
}
