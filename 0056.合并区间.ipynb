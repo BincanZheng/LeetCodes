{
 "cells": [
  {
   "cell_type": "markdown",
   "metadata": {},
   "source": [
    "给出一个区间的集合，请合并所有重叠的区间。\n",
    "\n",
    "**示例 1:**  \n",
    "输入: [[1,3],[2,6],[8,10],[15,18]]  \n",
    "输出: [[1,6],[8,10],[15,18]]  \n",
    "解释: 区间 [1,3] 和 [2,6] 重叠, 将它们合并为 [1,6].  \n",
    "\n",
    "**示例 2:**  \n",
    "输入: [[1,4],[4,5]]  \n",
    "输出: [[1,5]]  \n",
    "解释: 区间 [1,4] 和 [4,5] 可被视为重叠区间。  "
   ]
  },
  {
   "cell_type": "code",
   "execution_count": 1,
   "metadata": {},
   "outputs": [],
   "source": [
    "from typing import List"
   ]
  },
  {
   "cell_type": "code",
   "execution_count": 2,
   "metadata": {},
   "outputs": [],
   "source": [
    "class Solution:\n",
    "    def merge(self, intervals: List[List[int]]) -> List[List[int]]:\n",
    "        intervals.sort()\n",
    "        newintervals = []\n",
    "        needpass = 0\n",
    "        for i in range(0,len(intervals)):\n",
    "#            print(intervals[i],needpass)\n",
    "            if needpass == 0:\n",
    "                left = intervals[i][0]\n",
    "                right = intervals[i][1]\n",
    "#                 if left > right:\n",
    "#                     intervals[i] = [right,left]\n",
    "#                     intervals.sort()\n",
    "#                 print([left,right])\n",
    "\n",
    "                for j in range(i+1,len(intervals)):\n",
    "                    if right >= intervals[j][0]:\n",
    "                        if right <= intervals[j][1]:\n",
    "                            right = intervals[j][1]                    \n",
    "                        needpass += 1\n",
    "                newintervals.append([left,right])\n",
    "            else:\n",
    "                needpass -= 1\n",
    "        return newintervals"
   ]
  },
  {
   "cell_type": "code",
   "execution_count": 3,
   "metadata": {},
   "outputs": [
    {
     "data": {
      "text/plain": [
       "[[1, 6], [8, 10], [15, 18]]"
      ]
     },
     "execution_count": 3,
     "metadata": {},
     "output_type": "execute_result"
    }
   ],
   "source": [
    "test = Solution\n",
    "l = [[1,3],[8,10],[15,18],[2,6]]\n",
    "test.merge(test,l)"
   ]
  },
  {
   "cell_type": "code",
   "execution_count": 4,
   "metadata": {},
   "outputs": [
    {
     "data": {
      "text/plain": [
       "[[1, 5]]"
      ]
     },
     "execution_count": 4,
     "metadata": {},
     "output_type": "execute_result"
    }
   ],
   "source": [
    "l = [[1,4],[4,5]]\n",
    "test.merge(test,l)"
   ]
  },
  {
   "cell_type": "code",
   "execution_count": null,
   "metadata": {},
   "outputs": [],
   "source": []
  }
 ],
 "metadata": {
  "kernelspec": {
   "display_name": "Python 3",
   "language": "python",
   "name": "python3"
  },
  "language_info": {
   "codemirror_mode": {
    "name": "ipython",
    "version": 3
   },
   "file_extension": ".py",
   "mimetype": "text/x-python",
   "name": "python",
   "nbconvert_exporter": "python",
   "pygments_lexer": "ipython3",
   "version": "3.7.4"
  }
 },
 "nbformat": 4,
 "nbformat_minor": 2
}
