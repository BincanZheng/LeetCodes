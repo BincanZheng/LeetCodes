{
 "cells": [
  {
   "cell_type": "markdown",
   "metadata": {},
   "source": [
    "在《英雄联盟》的世界中，有一个叫 “提莫” 的英雄，他的攻击可以让敌方英雄艾希（编者注：寒冰射手）进入中毒状态。现在，给出提莫对艾希的攻击时间序列和提莫攻击的中毒持续时间，你需要输出艾希的中毒状态总时长。  \n",
    "  \n",
    "你可以认为提莫在给定的时间点进行攻击，并立即使艾希处于中毒状态。  \n",
    "  \n",
    "**示例1:**  \n",
    "输入: [1,4], 2  \n",
    "输出: 4  \n",
    "原因: 在第 1 秒开始时，提莫开始对艾希进行攻击并使其立即中毒。中毒状态会维持 2 秒钟，直到第 2 秒钟结束。  \n",
    "在第 4 秒开始时，提莫再次攻击艾希，使得艾希获得另外 2 秒的中毒时间。  \n",
    "所以最终输出 4 秒。  \n",
    "\n",
    "**示例2:**  \n",
    "输入: [1,2], 2  \n",
    "输出: 3  \n",
    "原因: 在第 1 秒开始时，提莫开始对艾希进行攻击并使其立即中毒。中毒状态会维持 2 秒钟，直到第 2 秒钟结束。  \n",
    "但是在第 2 秒开始时，提莫再次攻击了已经处于中毒状态的艾希。  \n",
    "由于中毒状态不可叠加，提莫在第 2 秒开始时的这次攻击会在第 3 秒钟结束。  \n",
    "所以最终输出 3。 \n",
    "  \n",
    "注意：  \n",
    "你可以假定时间序列数组的总长度不超过 10000。  \n",
    "你可以假定提莫攻击时间序列中的数字和提莫攻击的中毒持续时间都是非负整数，并且不超过 10,000,000。  \n",
    "  \n",
    "来源：力扣（LeetCode）  \n",
    "链接：https://leetcode-cn.com/problems/teemo-attacking  \n",
    "著作权归领扣网络所有。商业转载请联系官方授权，非商业转载请注明出处。  "
   ]
  },
  {
   "cell_type": "code",
   "execution_count": 1,
   "metadata": {},
   "outputs": [],
   "source": [
    "from typing import List"
   ]
  },
  {
   "cell_type": "code",
   "execution_count": 2,
   "metadata": {},
   "outputs": [],
   "source": [
    "class Solution:\n",
    "    def findPoisonedDuration(self, timeSeries: List[int], duration: int) -> int:\n",
    "        if len(timeSeries)==0:\n",
    "            return 0\n",
    "        last = timeSeries[0]\n",
    "        Sum = 0\n",
    "        for cur in timeSeries:\n",
    "            Sum = Sum + duration if cur-last>duration else Sum + cur-last\n",
    "            last = cur\n",
    "        Sum += duration\n",
    "        return Sum"
   ]
  },
  {
   "cell_type": "code",
   "execution_count": 3,
   "metadata": {},
   "outputs": [
    {
     "data": {
      "text/plain": [
       "4"
      ]
     },
     "execution_count": 3,
     "metadata": {},
     "output_type": "execute_result"
    }
   ],
   "source": [
    "timeSeries=[1,4]\n",
    "duration=2\n",
    "test=Solution\n",
    "test.findPoisonedDuration(test,timeSeries,duration)"
   ]
  },
  {
   "cell_type": "code",
   "execution_count": 4,
   "metadata": {},
   "outputs": [
    {
     "data": {
      "text/plain": [
       "3"
      ]
     },
     "execution_count": 4,
     "metadata": {},
     "output_type": "execute_result"
    }
   ],
   "source": [
    "timeSeries=[1,2]\n",
    "duration=2\n",
    "test=Solution\n",
    "test.findPoisonedDuration(test,timeSeries,duration)"
   ]
  },
  {
   "cell_type": "code",
   "execution_count": null,
   "metadata": {},
   "outputs": [],
   "source": []
  }
 ],
 "metadata": {
  "kernelspec": {
   "display_name": "Python 3",
   "language": "python",
   "name": "python3"
  },
  "language_info": {
   "codemirror_mode": {
    "name": "ipython",
    "version": 3
   },
   "file_extension": ".py",
   "mimetype": "text/x-python",
   "name": "python",
   "nbconvert_exporter": "python",
   "pygments_lexer": "ipython3",
   "version": "3.7.4"
  }
 },
 "nbformat": 4,
 "nbformat_minor": 2
}
