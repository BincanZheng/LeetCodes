{
 "cells": [
  {
   "cell_type": "markdown",
   "metadata": {},
   "source": [
    "给出两个 **非空** 的链表用来表示两个非负的整数。其中，它们各自的位数是按照 **逆序** 的方式存储的，并且它们的每个节点只能存储 **一位** 数字。  \n",
    "\n",
    "如果，我们将这两个数相加起来，则会返回一个新的链表来表示它们的和。  \n",
    "\n",
    "您可以假设除了数字 0 之外，这两个数都不会以 0 开头。  \n",
    "\n",
    "**示例：**  \n",
    "\n",
    "输入：(2 -> 4 -> 3) + (5 -> 6 -> 4)  \n",
    "输出：7 -> 0 -> 8  \n",
    "原因：342 + 465 = 807  "
   ]
  },
  {
   "cell_type": "code",
   "execution_count": 1,
   "metadata": {},
   "outputs": [],
   "source": [
    "# Definition for singly-linked list.\n",
    "class ListNode:\n",
    "    def __init__(self, x):\n",
    "        self.val = x\n",
    "        self.next = None"
   ]
  },
  {
   "cell_type": "code",
   "execution_count": 110,
   "metadata": {},
   "outputs": [],
   "source": [
    "# Definition for singly-linked list.\n",
    "# class ListNode:\n",
    "#     def __init__(self, x):\n",
    "#         self.val = x\n",
    "#         self.next = None\n",
    "\n",
    "class Solution:\n",
    "    def addTwoNumbers(self, l1: ListNode, l2: ListNode) -> ListNode:\n",
    "        nextadd = 0\n",
    "        curnum = l1.val+l2.val+nextadd\n",
    "        if curnum >= 10:\n",
    "            nextadd = 1\n",
    "            curnum = curnum % 10\n",
    "        else:\n",
    "            nextadd = 0\n",
    "        head = ListNode(curnum)\n",
    "        cur = head\n",
    "        l1 = l1.next\n",
    "        l2 = l2.next\n",
    "        l1last = False\n",
    "        l2last = False\n",
    "        if l1 == None:\n",
    "            l1last = True\n",
    "        if l2 == None:\n",
    "            l2last = True\n",
    "        if l1last and l2last:\n",
    "            if nextadd == 1:\n",
    "                cur.next = ListNode(nextadd)\n",
    "        while l1 != None or l2 != None:\n",
    "            if l1 != None and l2 != None:\n",
    "                curnum = l1.val+l2.val+nextadd\n",
    "                if curnum >= 10:\n",
    "                    nextadd = 1\n",
    "                    curnum = curnum % 10\n",
    "                else:\n",
    "                    nextadd = 0\n",
    "            elif l1 != None and l2 == None:\n",
    "                curnum = l1.val+nextadd\n",
    "                if curnum >= 10:\n",
    "                    nextadd = 1\n",
    "                    curnum = curnum % 10\n",
    "                else:\n",
    "                    nextadd = 0\n",
    "            elif l1 == None and l2 != None :\n",
    "                curnum = l2.val+nextadd\n",
    "                if curnum >= 10:\n",
    "                    nextadd = 1\n",
    "                    curnum = curnum % 10\n",
    "                else:\n",
    "                    nextadd = 0\n",
    "            \n",
    "            try:\n",
    "                l1 = l1.next\n",
    "                if l1 == None:\n",
    "                    l1last = True\n",
    "            except:\n",
    "                pass\n",
    "            try:\n",
    "                l2 = l2.next\n",
    "                if l2 == None:\n",
    "                    l2last = True\n",
    "            except:\n",
    "                pass\n",
    "            cur.next = ListNode(curnum)\n",
    "            cur = cur.next\n",
    "            if l1last and l2last:\n",
    "                if nextadd == 1:\n",
    "                    cur.next = ListNode(nextadd)\n",
    "#             print(l1last,l2last)\n",
    "#             P(l1)\n",
    "#             P(l2)\n",
    "#             P(head)\n",
    "#             print('---------')\n",
    "        return head"
   ]
  },
  {
   "cell_type": "code",
   "execution_count": 111,
   "metadata": {},
   "outputs": [],
   "source": [
    "def P(head):\n",
    "    cur = head\n",
    "    num = []\n",
    "    while cur != None:\n",
    "        num.append(cur.val)\n",
    "        cur = cur.next\n",
    "    print(num)"
   ]
  },
  {
   "cell_type": "code",
   "execution_count": 112,
   "metadata": {},
   "outputs": [],
   "source": [
    "def getlistnode(List):\n",
    "    l = ListNode(List[0])\n",
    "    cur = l\n",
    "    for i in range(1,len(List)):\n",
    "        cur.next = ListNode(List[i])\n",
    "        cur = cur.next\n",
    "    return l"
   ]
  },
  {
   "cell_type": "code",
   "execution_count": 113,
   "metadata": {},
   "outputs": [
    {
     "name": "stdout",
     "output_type": "stream",
     "text": [
      "[4, 6, 0, 0, 0, 0, 0, 1]\n"
     ]
    }
   ],
   "source": [
    "l1 = getlistnode([9,9,5,9,9,9,9])\n",
    "l2 = getlistnode([5,6,4])\n",
    "\n",
    "test = Solution\n",
    "answer = test.addTwoNumbers(test,l1,l2)\n",
    "P(answer)"
   ]
  },
  {
   "cell_type": "code",
   "execution_count": 114,
   "metadata": {},
   "outputs": [
    {
     "name": "stdout",
     "output_type": "stream",
     "text": [
      "[0, 1]\n"
     ]
    }
   ],
   "source": [
    "l1 = getlistnode([5])\n",
    "l2 = getlistnode([5])\n",
    "\n",
    "test = Solution\n",
    "answer = test.addTwoNumbers(test,l1,l2)\n",
    "P(answer)"
   ]
  },
  {
   "cell_type": "code",
   "execution_count": 115,
   "metadata": {},
   "outputs": [
    {
     "name": "stdout",
     "output_type": "stream",
     "text": [
      "[0, 0, 1]\n"
     ]
    }
   ],
   "source": [
    "l1 = getlistnode([1])\n",
    "l2 = getlistnode([9,9])\n",
    "\n",
    "test = Solution\n",
    "answer = test.addTwoNumbers(test,l1,l2)\n",
    "P(answer)"
   ]
  },
  {
   "cell_type": "code",
   "execution_count": null,
   "metadata": {},
   "outputs": [],
   "source": []
  }
 ],
 "metadata": {
  "kernelspec": {
   "display_name": "Python 3",
   "language": "python",
   "name": "python3"
  },
  "language_info": {
   "codemirror_mode": {
    "name": "ipython",
    "version": 3
   },
   "file_extension": ".py",
   "mimetype": "text/x-python",
   "name": "python",
   "nbconvert_exporter": "python",
   "pygments_lexer": "ipython3",
   "version": "3.7.4"
  }
 },
 "nbformat": 4,
 "nbformat_minor": 2
}
