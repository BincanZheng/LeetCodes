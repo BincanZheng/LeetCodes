{
 "cells": [
  {
   "cell_type": "markdown",
   "metadata": {},
   "source": [
    "在显示着数字的坏计算器上，我们可以执行以下两种操作：  \n",
    "\n",
    "双倍（Double）：将显示屏上的数字乘 2；  \n",
    "递减（Decrement）：将显示屏上的数字减 1 。  \n",
    "最初，计算器显示数字 X。  \n",
    "\n",
    "返回显示数字 Y 所需的最小操作数。  \n",
    "\n",
    "**示例 1：**  \n",
    "输入：X = 2, Y = 3  \n",
    "输出：2  \n",
    "解释：先进行双倍运算，然后再进行递减运算 {2 -> 4 -> 3}.  \n",
    "\n",
    "**示例 2：**  \n",
    "输入：X = 5, Y = 8  \n",
    "输出：2  \n",
    "解释：先递减，再双倍 {5 -> 4 -> 8}.  \n",
    "\n",
    "**示例 3：**  \n",
    "输入：X = 3, Y = 10  \n",
    "输出：3  \n",
    "解释：先双倍，然后递减，再双倍 {3 -> 6 -> 5 -> 10}.  \n",
    "\n",
    "**示例 4：**  \n",
    "输入：X = 1024, Y = 1  \n",
    "输出：1023  \n",
    "解释：执行递减运算 1023 次  \n",
    "\n",
    "来源：力扣（LeetCode）\n",
    "链接：https://leetcode-cn.com/problems/broken-calculator\n",
    "著作权归领扣网络所有。商业转载请联系官方授权，非商业转载请注明出处。"
   ]
  },
  {
   "cell_type": "code",
   "execution_count": 1,
   "metadata": {},
   "outputs": [],
   "source": [
    "# 学来的东西怎么能叫偷\n",
    "class Solution:\n",
    "    def brokenCalc(self, X: int, Y: int) -> int:\n",
    "        result = 0\n",
    "        while(X<Y):\n",
    "            if Y%2 == 0:\n",
    "                Y /= 2\n",
    "                result +=1\n",
    "            else:\n",
    "                Y = (Y+1)/2\n",
    "                result +=2;\n",
    "        return int(result + X - Y)"
   ]
  },
  {
   "cell_type": "raw",
   "metadata": {},
   "source": [
    "class Solution:\n",
    "    def brokenCalc(self, X: int, Y: int) -> int:\n",
    "        if X > Y:\n",
    "            return X-Y\n",
    "        elif X == Y:\n",
    "            return 0\n",
    "        else:\n",
    "            l = [X]\n",
    "            curcount = 1\n",
    "            curlvl = 0\n",
    "            if curcount == 2**(curlvl+1)-1:\n",
    "#                 print('same at',curcount)\n",
    "#                 print(l[curcount-1:2**(curlvl+1)-1])\n",
    "                curlvln = 2**(curlvl+1)-2**(curlvl)\n",
    "                for num in l[0:curlvln]:\n",
    "                    if num == 0:\n",
    "                        l.append(0)\n",
    "                        l.append(0)\n",
    "                    else:\n",
    "                        l.append(num*2)\n",
    "                        if num-1 < 0:\n",
    "                            l.append(0)\n",
    "                        else:\n",
    "                            l.append(num-1)\n",
    "            curcount += 1\n",
    "            if curcount > 2**curlvl:\n",
    "                for i in range(0,curlvln):\n",
    "                    l.pop(0)\n",
    "                curlvl += 1\n",
    "            while l[curcount-2**(curlvl)] != Y:\n",
    "#                 print('(',curcount,')','cur at',l[curcount-1-2**(curlvl-1)],'curlvl is',curlvl)\n",
    "#                 print(l)\n",
    "                curlvln = 2**(curlvl+1)-2**(curlvl)\n",
    "                if curcount == 2**(curlvl):\n",
    "#                     print('same at',curcount)\n",
    "#                     print(l[curcount-1:2**(curlvl+1)-1])\n",
    "                    for num in l[0:curlvln]:\n",
    "                        if num == 0:\n",
    "                            l.append(0)\n",
    "                            l.append(0)\n",
    "                        else:\n",
    "                            l.append(num*2)\n",
    "                            if num-1 < 0:\n",
    "                                l.append(0)\n",
    "                            else:\n",
    "                                l.append(num-1)\n",
    "                curcount += 1\n",
    "                if curcount > 2**(curlvl+1)-1:\n",
    "                    for i in range(0,curlvln):\n",
    "                        l.pop(0)\n",
    "                    curlvl += 1\n",
    "#                 print('-----------------------')\n",
    "            return curlvl"
   ]
  },
  {
   "cell_type": "raw",
   "metadata": {},
   "source": [
    "class Solution:\n",
    "    def brokenCalc(self, X: int, Y: int) -> int:\n",
    "        if X > Y:\n",
    "            return X-Y\n",
    "        elif X == Y:\n",
    "            return 0\n",
    "        else:\n",
    "            l = [X]\n",
    "            curcount = 1\n",
    "            curlvl = 0\n",
    "            if curcount == 2**(curlvl+1)-1:\n",
    "#                 print('same at',curcount)\n",
    "#                 print(l[curcount-1:2**(curlvl+1)-1])\n",
    "                for num in l[curcount-1:2**(curlvl+1)-1]:\n",
    "                    if num == 0:\n",
    "                        l.append(0)\n",
    "                        l.append(0)\n",
    "                    else:\n",
    "                        l.append(num*2)\n",
    "                        if num-1 < 0:\n",
    "                            l.append(0)\n",
    "                        else:\n",
    "                            l.append(num-1)\n",
    "            curcount += 1\n",
    "            if curcount > 2**curlvl:\n",
    "                curlvl += 1\n",
    "#             print('-----------------------')\n",
    "#             print('cur at',l[curcount-1])\n",
    "#             print('cur is',curcount)\n",
    "#             print(l)\n",
    "#             print('curlvl is',curlvl)\n",
    "            while l[curcount-1] != Y:\n",
    "#                 print(curcount,2**(curlvl)-1)\n",
    "                if curcount == 2**(curlvl):\n",
    "#                     print('same at',curcount)\n",
    "#                     print(l[curcount-1:2**(curlvl+1)-1])\n",
    "                    for num in l[curcount-1:2**(curlvl+1)-1]:\n",
    "                        if num == 0:\n",
    "                            l.append(0)\n",
    "                            l.append(0)\n",
    "                        else:\n",
    "                            l.append(num*2)\n",
    "                            if num-1 < 0:\n",
    "                                l.append(0)\n",
    "                            else:\n",
    "                                l.append(num-1)\n",
    "                curcount += 1\n",
    "                if curcount > 2**(curlvl+1)-1:\n",
    "                    curlvl += 1\n",
    "#                 print('-----------------------')\n",
    "#                 print('cur at',l[curcount-1])\n",
    "#                 print('cur is',curcount)\n",
    "#                 print(l)\n",
    "#                 print('curlvl is',curlvl)\n",
    "            return curlvl"
   ]
  },
  {
   "cell_type": "raw",
   "metadata": {},
   "source": [
    "x=5 y=8\n",
    "5                2^(0+1)-2^0=2-1=1\n",
    "10 4              2^(1+1)-2^1=4-2=2\n",
    "20 9 8 3           2^(2+1)-2^2=8-4=4\n",
    "40 19 18 8 16 7 6 2    2^(3+1)-2^3=16-8=8"
   ]
  },
  {
   "cell_type": "code",
   "execution_count": 2,
   "metadata": {},
   "outputs": [
    {
     "data": {
      "text/plain": [
       "1023"
      ]
     },
     "execution_count": 2,
     "metadata": {},
     "output_type": "execute_result"
    }
   ],
   "source": [
    "X = 1024\n",
    "Y = 1\n",
    "\n",
    "test = Solution\n",
    "test.brokenCalc(test,X,Y)"
   ]
  },
  {
   "cell_type": "code",
   "execution_count": 3,
   "metadata": {},
   "outputs": [
    {
     "data": {
      "text/plain": [
       "2"
      ]
     },
     "execution_count": 3,
     "metadata": {},
     "output_type": "execute_result"
    }
   ],
   "source": [
    "X = 2\n",
    "Y = 3\n",
    "\n",
    "test = Solution\n",
    "test.brokenCalc(test,X,Y)"
   ]
  },
  {
   "cell_type": "code",
   "execution_count": 4,
   "metadata": {},
   "outputs": [
    {
     "data": {
      "text/plain": [
       "2"
      ]
     },
     "execution_count": 4,
     "metadata": {},
     "output_type": "execute_result"
    }
   ],
   "source": [
    "X = 5\n",
    "Y = 8\n",
    "\n",
    "test = Solution\n",
    "test.brokenCalc(test,X,Y)"
   ]
  },
  {
   "cell_type": "code",
   "execution_count": 5,
   "metadata": {
    "scrolled": false
   },
   "outputs": [
    {
     "data": {
      "text/plain": [
       "3"
      ]
     },
     "execution_count": 5,
     "metadata": {},
     "output_type": "execute_result"
    }
   ],
   "source": [
    "X = 3\n",
    "Y = 10\n",
    "\n",
    "test = Solution\n",
    "test.brokenCalc(test,X,Y)"
   ]
  },
  {
   "cell_type": "code",
   "execution_count": 6,
   "metadata": {
    "scrolled": false
   },
   "outputs": [
    {
     "data": {
      "text/plain": [
       "39"
      ]
     },
     "execution_count": 6,
     "metadata": {},
     "output_type": "execute_result"
    }
   ],
   "source": [
    "X = 1\n",
    "Y = 1000000000\n",
    "\n",
    "test = Solution\n",
    "test.brokenCalc(test,X,Y)"
   ]
  },
  {
   "cell_type": "code",
   "execution_count": null,
   "metadata": {},
   "outputs": [],
   "source": []
  }
 ],
 "metadata": {
  "kernelspec": {
   "display_name": "Python 3",
   "language": "python",
   "name": "python3"
  },
  "language_info": {
   "codemirror_mode": {
    "name": "ipython",
    "version": 3
   },
   "file_extension": ".py",
   "mimetype": "text/x-python",
   "name": "python",
   "nbconvert_exporter": "python",
   "pygments_lexer": "ipython3",
   "version": "3.7.4"
  }
 },
 "nbformat": 4,
 "nbformat_minor": 2
}
