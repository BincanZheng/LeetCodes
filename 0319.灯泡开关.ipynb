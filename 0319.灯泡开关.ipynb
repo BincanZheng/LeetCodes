{
 "cells": [
  {
   "cell_type": "markdown",
   "metadata": {},
   "source": [
    "初始时有 n 个灯泡关闭。  \n",
    "第 1 轮，你打开所有的灯泡。   \n",
    "第 2 轮，每两个灯泡你关闭一次。  \n",
    "第 3 轮，每三个灯泡切换一次开关（如果关闭则开启，如果开启则关闭）。  \n",
    "第 i 轮，每 i 个灯泡切换一次开关。  \n",
    "对于第 n 轮，你只切换最后一个灯泡的开关。  \n",
    "找出 n 轮后有多少个亮着的灯泡。 \n",
    "\n",
    "**示例:**\n",
    "\n",
    "输入: 3  \n",
    "输出: 1   \n",
    "解释:   \n",
    "初始时, 灯泡状态 [关闭, 关闭, 关闭].  \n",
    "第一轮后, 灯泡状态 [开启, 开启, 开启].  \n",
    "第二轮后, 灯泡状态 [开启, 关闭, 开启].  \n",
    "第三轮后, 灯泡状态 [开启, 关闭, 关闭].   \n",
    "  \n",
    "你应该返回 1，因为只有一个灯泡还亮着。  \n",
    "  \n",
    "来源：力扣（LeetCode）  \n",
    "链接：https://leetcode-cn.com/problems/bulb-switcher  \n",
    "著作权归领扣网络所有。商业转载请联系官方授权，非商业转载请注明出处。"
   ]
  },
  {
   "cell_type": "code",
   "execution_count": 1,
   "metadata": {},
   "outputs": [],
   "source": [
    "import numpy as np\n",
    "class Solution:\n",
    "    def bulbSwitch(self, n: int) -> int:\n",
    "        l = [1 for i in range(0,n)]\n",
    "        print(1,np.array(l)%2)\n",
    "        for i in range(2,n+1):\n",
    "            for j in range(i-1,n,i):\n",
    "                l[j] += 1\n",
    "            print(i,np.array(l)%2)\n",
    "        return int(np.sum(np.array(l)%2))"
   ]
  },
  {
   "cell_type": "code",
   "execution_count": 2,
   "metadata": {},
   "outputs": [],
   "source": [
    "from math import sqrt\n",
    "class Solution:\n",
    "    def bulbSwitch(self, n: int) -> int:\n",
    "        return int(sqrt(n))"
   ]
  },
  {
   "cell_type": "code",
   "execution_count": 3,
   "metadata": {},
   "outputs": [
    {
     "data": {
      "text/plain": [
       "0"
      ]
     },
     "execution_count": 3,
     "metadata": {},
     "output_type": "execute_result"
    }
   ],
   "source": [
    "num = 0\n",
    "test = Solution\n",
    "test.bulbSwitch(test,num)"
   ]
  },
  {
   "cell_type": "code",
   "execution_count": 4,
   "metadata": {},
   "outputs": [
    {
     "data": {
      "text/plain": [
       "1"
      ]
     },
     "execution_count": 4,
     "metadata": {},
     "output_type": "execute_result"
    }
   ],
   "source": [
    "num = 3\n",
    "test = Solution\n",
    "test.bulbSwitch(test,num)"
   ]
  },
  {
   "cell_type": "code",
   "execution_count": 5,
   "metadata": {},
   "outputs": [
    {
     "data": {
      "text/plain": [
       "2"
      ]
     },
     "execution_count": 5,
     "metadata": {},
     "output_type": "execute_result"
    }
   ],
   "source": [
    "num = 4\n",
    "test = Solution\n",
    "test.bulbSwitch(test,num)"
   ]
  },
  {
   "cell_type": "code",
   "execution_count": 6,
   "metadata": {},
   "outputs": [
    {
     "data": {
      "text/plain": [
       "2.23606797749979"
      ]
     },
     "execution_count": 6,
     "metadata": {},
     "output_type": "execute_result"
    }
   ],
   "source": [
    "np.sqrt(5)"
   ]
  },
  {
   "cell_type": "code",
   "execution_count": 7,
   "metadata": {},
   "outputs": [
    {
     "data": {
      "text/plain": [
       "2"
      ]
     },
     "execution_count": 7,
     "metadata": {},
     "output_type": "execute_result"
    }
   ],
   "source": [
    "num = 5\n",
    "test = Solution\n",
    "test.bulbSwitch(test,num)"
   ]
  },
  {
   "cell_type": "code",
   "execution_count": 8,
   "metadata": {},
   "outputs": [
    {
     "data": {
      "text/plain": [
       "2.449489742783178"
      ]
     },
     "execution_count": 8,
     "metadata": {},
     "output_type": "execute_result"
    }
   ],
   "source": [
    "np.sqrt(6)"
   ]
  },
  {
   "cell_type": "code",
   "execution_count": 9,
   "metadata": {},
   "outputs": [
    {
     "data": {
      "text/plain": [
       "2"
      ]
     },
     "execution_count": 9,
     "metadata": {},
     "output_type": "execute_result"
    }
   ],
   "source": [
    "num = 6\n",
    "test = Solution\n",
    "test.bulbSwitch(test,num)"
   ]
  },
  {
   "cell_type": "code",
   "execution_count": 10,
   "metadata": {},
   "outputs": [
    {
     "data": {
      "text/plain": [
       "2"
      ]
     },
     "execution_count": 10,
     "metadata": {},
     "output_type": "execute_result"
    }
   ],
   "source": [
    "num = 7\n",
    "test = Solution\n",
    "test.bulbSwitch(test,num)"
   ]
  },
  {
   "cell_type": "code",
   "execution_count": 11,
   "metadata": {
    "scrolled": false
   },
   "outputs": [
    {
     "data": {
      "text/plain": [
       "10"
      ]
     },
     "execution_count": 11,
     "metadata": {},
     "output_type": "execute_result"
    }
   ],
   "source": [
    "num = 100\n",
    "test = Solution\n",
    "test.bulbSwitch(test,num)"
   ]
  },
  {
   "cell_type": "code",
   "execution_count": 12,
   "metadata": {},
   "outputs": [
    {
     "data": {
      "text/plain": [
       "1000"
      ]
     },
     "execution_count": 12,
     "metadata": {},
     "output_type": "execute_result"
    }
   ],
   "source": [
    "num = 1000000\n",
    "test = Solution\n",
    "test.bulbSwitch(test,num)"
   ]
  },
  {
   "cell_type": "code",
   "execution_count": null,
   "metadata": {},
   "outputs": [],
   "source": []
  }
 ],
 "metadata": {
  "kernelspec": {
   "display_name": "Python 3",
   "language": "python",
   "name": "python3"
  },
  "language_info": {
   "codemirror_mode": {
    "name": "ipython",
    "version": 3
   },
   "file_extension": ".py",
   "mimetype": "text/x-python",
   "name": "python",
   "nbconvert_exporter": "python",
   "pygments_lexer": "ipython3",
   "version": "3.7.4"
  }
 },
 "nbformat": 4,
 "nbformat_minor": 2
}
