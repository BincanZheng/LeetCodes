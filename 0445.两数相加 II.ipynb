{
 "cells": [
  {
   "cell_type": "markdown",
   "metadata": {},
   "source": [
    "给定两个**非空**链表来代表两个非负整数。数字最高位位于链表开始位置。它们的每个节点只存储单个数字。将这两数相加会返回一个新的链表。 \n",
    "\n",
    "你可以假设除了数字 0 之外，这两个数字都不会以零开头。\n",
    "\n",
    "**进阶:**  \n",
    "如果输入链表不能修改该如何处理？换句话说，你不能对列表中的节点进行翻转。  \n",
    "\n",
    "**示例:**  \n",
    "输入: (7 -> 2 -> 4 -> 3) + (5 -> 6 -> 4)  \n",
    "输出: 7 -> 8 -> 0 -> 7  \n",
    "\n",
    "来源：力扣（LeetCode）  \n",
    "链接：https://leetcode-cn.com/problems/add-two-numbers-ii  \n",
    "著作权归领扣网络所有。商业转载请联系官方授权，非商业转载请注明出处。  "
   ]
  },
  {
   "cell_type": "code",
   "execution_count": 1,
   "metadata": {},
   "outputs": [],
   "source": [
    "# Definition for singly-linked list.\n",
    "class ListNode:\n",
    "    def __init__(self, x):\n",
    "        self.val = x\n",
    "        self.next = None"
   ]
  },
  {
   "cell_type": "code",
   "execution_count": 2,
   "metadata": {},
   "outputs": [],
   "source": [
    "def P(head):\n",
    "    cur = head\n",
    "    num = []\n",
    "    while cur != None:\n",
    "        num.append(cur.val)\n",
    "        cur = cur.next\n",
    "    print(num)"
   ]
  },
  {
   "cell_type": "code",
   "execution_count": 3,
   "metadata": {},
   "outputs": [],
   "source": [
    "def getlistnode(List):\n",
    "    l = ListNode(List[0])\n",
    "    cur = l\n",
    "    for i in range(1,len(List)):\n",
    "        cur.next = ListNode(List[i])\n",
    "        cur = cur.next\n",
    "    return l"
   ]
  },
  {
   "cell_type": "code",
   "execution_count": 4,
   "metadata": {},
   "outputs": [],
   "source": [
    "class Solution:\n",
    "    def get_val(l:ListNode,i:int) -> int:\n",
    "        for j in range(0,i-1):\n",
    "            l = l.next\n",
    "        return l.val\n",
    "\n",
    "    def addTwoNumbers(self, l1: ListNode, l2: ListNode) -> ListNode:\n",
    "        len1 = 0\n",
    "        len2 = 0\n",
    "        curl1 = l1\n",
    "        curl2 = l2\n",
    "        while curl1 != None:\n",
    "            len1 += 1\n",
    "            curl1 = curl1.next\n",
    "        while curl2 != None:\n",
    "            len2 += 1\n",
    "            curl2 = curl2.next\n",
    "        \n",
    "        nextadd = 0\n",
    "        if len1>0:\n",
    "            val1 = Solution.get_val(l1,len1)\n",
    "        else:\n",
    "            val1 = 0\n",
    "        if len2>0:\n",
    "            val2 = Solution.get_val(l2,len2)\n",
    "        else:\n",
    "            val2 = 0\n",
    "        num = val1+val2+nextadd\n",
    "        if num >= 10:\n",
    "            num = num %10\n",
    "            nextadd = 1\n",
    "        head = ListNode(num)\n",
    "        len1 -= 1\n",
    "        len2 -= 1\n",
    "        if len1<=0 and len2<=0:\n",
    "            if nextadd==1:\n",
    "                newhead = ListNode(nextadd)\n",
    "                newhead.next = head\n",
    "                head = newhead\n",
    "                    \n",
    "        while len1>0 or len2>0:\n",
    "            if len1>0:\n",
    "                val1 = Solution.get_val(l1,len1)\n",
    "            else:\n",
    "                val1 = 0\n",
    "            if len2>0:\n",
    "                val2 = Solution.get_val(l2,len2)\n",
    "            else:\n",
    "                val2 = 0\n",
    "            num = val1+val2+nextadd\n",
    "            nextadd = 0\n",
    "            if num >= 10:\n",
    "                num = num %10\n",
    "                nextadd = 1\n",
    "            newhead = ListNode(num)\n",
    "            newhead.next = head\n",
    "            head = newhead\n",
    "            len1 -= 1\n",
    "            len2 -= 1\n",
    "            if len1<=0 and len2<=0:\n",
    "                if nextadd==1:\n",
    "                    newhead = ListNode(nextadd)\n",
    "                    newhead.next = head\n",
    "                    head = newhead\n",
    "        return head"
   ]
  },
  {
   "cell_type": "code",
   "execution_count": 5,
   "metadata": {},
   "outputs": [
    {
     "name": "stdout",
     "output_type": "stream",
     "text": [
      "[1, 0, 0, 0, 0, 1, 6, 3]\n"
     ]
    }
   ],
   "source": [
    "l1 = getlistnode([9,9,9,9,5,9,9])\n",
    "l2 = getlistnode([5,6,4])\n",
    "\n",
    "test = Solution\n",
    "answer = test.addTwoNumbers(test,l1,l2)\n",
    "\n",
    "P(answer)"
   ]
  },
  {
   "cell_type": "code",
   "execution_count": 6,
   "metadata": {},
   "outputs": [
    {
     "name": "stdout",
     "output_type": "stream",
     "text": [
      "[1, 0]\n"
     ]
    }
   ],
   "source": [
    "l1 = getlistnode([5])\n",
    "l2 = getlistnode([5])\n",
    "\n",
    "test = Solution\n",
    "answer = test.addTwoNumbers(test,l1,l2)\n",
    "#answer\n",
    "P(answer)"
   ]
  },
  {
   "cell_type": "code",
   "execution_count": 7,
   "metadata": {},
   "outputs": [
    {
     "data": {
      "text/plain": [
       "-1"
      ]
     },
     "execution_count": 7,
     "metadata": {},
     "output_type": "execute_result"
    }
   ],
   "source": [
    "# import cv2\n",
    "# import numpy as np\n",
    "\n",
    "# #读入图片：默认彩色图，cv2.IMREAD_GRAYSCALE灰度图，cv2.IMREAD_UNCHANGED包含alpha通道\n",
    "# img = cv2.imread(r'D:\\Anaconda Library\\LeeCodes\\results\\0445.png')\n",
    "# cv2.imshow('LeeCode Result',img)\n",
    "# # print(img.shape) # (h,w,c)\n",
    "# # print(img.size) # 像素总数目\n",
    "# # print(img.dtype)\n",
    "# # print(img)\n",
    "# cv2.waitKey()"
   ]
  }
 ],
 "metadata": {
  "kernelspec": {
   "display_name": "Python 3",
   "language": "python",
   "name": "python3"
  },
  "language_info": {
   "codemirror_mode": {
    "name": "ipython",
    "version": 3
   },
   "file_extension": ".py",
   "mimetype": "text/x-python",
   "name": "python",
   "nbconvert_exporter": "python",
   "pygments_lexer": "ipython3",
   "version": "3.7.4"
  }
 },
 "nbformat": 4,
 "nbformat_minor": 2
}
