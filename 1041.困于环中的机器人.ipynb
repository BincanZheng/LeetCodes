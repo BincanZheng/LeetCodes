{
 "cells": [
  {
   "cell_type": "markdown",
   "metadata": {},
   "source": [
    "在无限的平面上，机器人最初位于 (0, 0) 处，面朝北方。机器人可以接受下列三条指令之一：  \n",
    "\"G\"：直走 1 个单位  \n",
    "\"L\"：左转 90 度  \n",
    "\"R\"：右转 90 度  \n",
    "机器人按顺序执行指令 instructions，并一直重复它们。  \n",
    "只有在平面中存在环使得机器人永远无法离开时，返回 true。否则，返回 false。  \n",
    "  \n",
    "**示例 1：**  \n",
    "输入：\"GGLLGG\"  \n",
    "输出：true  \n",
    "解释：  \n",
    "机器人从 (0,0) 移动到 (0,2)，转 180 度，然后回到 (0,0)。  \n",
    "重复这些指令，机器人将保持在以原点为中心，2 为半径的环中进行移动。  \n",
    "\n",
    "**示例 2：**  \n",
    "输入：\"GG\"  \n",
    "输出：false  \n",
    "解释：  \n",
    "机器人无限向北移动。  \n",
    "  \n",
    "**示例 3：**  \n",
    "输入：\"GL\"  \n",
    "输出：true  \n",
    "解释：  \n",
    "机器人按 (0, 0) -> (0, 1) -> (-1, 1) -> (-1, 0) -> (0, 0) -> ... 进行移动。  \n",
    " \n",
    "提示：  \n",
    "1 <= instructions.length <= 100  \n",
    "instructions[i] 在 {'G', 'L', 'R'} 中\n",
    "  \n",
    "来源：力扣（LeetCode）  \n",
    "链接：https://leetcode-cn.com/problems/robot-bounded-in-circle  \n",
    "著作权归领扣网络所有。商业转载请联系官方授权，非商业转载请注明出处。  "
   ]
  },
  {
   "cell_type": "code",
   "execution_count": 1,
   "metadata": {},
   "outputs": [],
   "source": [
    "import numpy as np"
   ]
  },
  {
   "cell_type": "code",
   "execution_count": 76,
   "metadata": {},
   "outputs": [],
   "source": [
    "class Solution:\n",
    "    def isRobotBounded(self, instructions: str) :\n",
    "        dx = [ 0, 1, 0,-1]\n",
    "        dy = [ 1, 0,-1, 0]\n",
    "        d = 0\n",
    "        x = 0\n",
    "        y = 0\n",
    "        for i in range(len(instructions)):\n",
    "            if instructions[i] == 'R':\n",
    "                d += 1\n",
    "            elif instructions[i] == 'L':\n",
    "                d += 3\n",
    "            else:\n",
    "                d = d % 4\n",
    "                x = x + dx[d]\n",
    "                y = y + dy[d]\n",
    "        return (x==0 and y==0) or (d%4 != 0)"
   ]
  },
  {
   "cell_type": "code",
   "execution_count": 72,
   "metadata": {},
   "outputs": [],
   "source": [
    "class Solution:\n",
    "    def isRobotBounded(self, instructions: str) :\n",
    "        go = np.array([0,1])\n",
    "        cur = np.array([0,0])\n",
    "        path = [cur]\n",
    "        n = len(instructions)\n",
    "        while len(instructions)<2000:\n",
    "            instructions += instructions\n",
    "        FOUND = 0\n",
    "        for i in range(0,2000):\n",
    "            if instructions[i] == 'G':\n",
    "                cur = cur + go\n",
    "                path.append(cur)\n",
    "                if (cur == np.array([0,0])).sum()==2:\n",
    "                    FOUND += 1\n",
    "                    if FOUND == 2:\n",
    "                        return True\n",
    "                if FOUND == 1 and (path[-2] == np.array([0,0])).sum()==2:\n",
    "                    if (cur == path[1]).sum()==2:\n",
    "                        return True\n",
    "            elif instructions[i] =='L':\n",
    "                if (go == np.array([0,1])).sum()==2:\n",
    "                    go = np.array([-1,0])\n",
    "                elif (go == np.array([-1,0])).sum()==2:\n",
    "                    go = np.array([0,-1])\n",
    "                elif (go == np.array([0,-1])).sum()==2:\n",
    "                    go = np.array([1,0])\n",
    "                else:\n",
    "                    go = np.array([0,1])\n",
    "            else:\n",
    "                if (go == np.array([0,1])).sum()==2:\n",
    "                    go = np.array([1,0])\n",
    "                elif (go == np.array([1,0])).sum()==2:\n",
    "                    go = np.array([0,-1])\n",
    "                elif (go == np.array([0,-1])).sum()==2:\n",
    "                    go = np.array([-1,0])\n",
    "                else:\n",
    "                    go = np.array([0,1])\n",
    "        if len(path)==1:\n",
    "            return True\n",
    "        return False"
   ]
  },
  {
   "cell_type": "code",
   "execution_count": 77,
   "metadata": {},
   "outputs": [
    {
     "data": {
      "text/plain": [
       "True"
      ]
     },
     "execution_count": 77,
     "metadata": {},
     "output_type": "execute_result"
    }
   ],
   "source": [
    "instructions = \"GGLLGG\"\n",
    "test = Solution\n",
    "test.isRobotBounded(test,instructions)"
   ]
  },
  {
   "cell_type": "code",
   "execution_count": 78,
   "metadata": {},
   "outputs": [
    {
     "data": {
      "text/plain": [
       "False"
      ]
     },
     "execution_count": 78,
     "metadata": {},
     "output_type": "execute_result"
    }
   ],
   "source": [
    "instructions = \"GG\"\n",
    "test = Solution\n",
    "test.isRobotBounded(test,instructions)"
   ]
  },
  {
   "cell_type": "code",
   "execution_count": 79,
   "metadata": {},
   "outputs": [
    {
     "data": {
      "text/plain": [
       "True"
      ]
     },
     "execution_count": 79,
     "metadata": {},
     "output_type": "execute_result"
    }
   ],
   "source": [
    "instructions = \"GL\"\n",
    "test = Solution\n",
    "test.isRobotBounded(test,instructions)"
   ]
  },
  {
   "cell_type": "code",
   "execution_count": 80,
   "metadata": {},
   "outputs": [
    {
     "data": {
      "text/plain": [
       "False"
      ]
     },
     "execution_count": 80,
     "metadata": {},
     "output_type": "execute_result"
    }
   ],
   "source": [
    "instructions = \"GLGLGGLGL\"\n",
    "test = Solution\n",
    "test.isRobotBounded(test,instructions)"
   ]
  },
  {
   "cell_type": "code",
   "execution_count": 81,
   "metadata": {},
   "outputs": [
    {
     "data": {
      "text/plain": [
       "True"
      ]
     },
     "execution_count": 81,
     "metadata": {},
     "output_type": "execute_result"
    }
   ],
   "source": [
    "instructions = \"LRRRRLLLRL\"\n",
    "test = Solution\n",
    "test.isRobotBounded(test,instructions)"
   ]
  },
  {
   "cell_type": "code",
   "execution_count": 82,
   "metadata": {},
   "outputs": [
    {
     "data": {
      "text/plain": [
       "True"
      ]
     },
     "execution_count": 82,
     "metadata": {},
     "output_type": "execute_result"
    }
   ],
   "source": [
    "instructions = \"LLLLGGGRRRRGGGGGRLRGG\"\n",
    "test = Solution\n",
    "test.isRobotBounded(test,instructions)"
   ]
  },
  {
   "cell_type": "code",
   "execution_count": 83,
   "metadata": {},
   "outputs": [
    {
     "data": {
      "text/plain": [
       "True"
      ]
     },
     "execution_count": 83,
     "metadata": {},
     "output_type": "execute_result"
    }
   ],
   "source": [
    "instructions = \"RLLGGLRGLGLLLGRLRLRLRRRRLRLGRLLLGGL\"\n",
    "test = Solution\n",
    "test.isRobotBounded(test,instructions)"
   ]
  },
  {
   "cell_type": "code",
   "execution_count": 84,
   "metadata": {},
   "outputs": [
    {
     "data": {
      "text/plain": [
       "True"
      ]
     },
     "execution_count": 84,
     "metadata": {},
     "output_type": "execute_result"
    }
   ],
   "source": [
    "instructions = \"RRRRGGLGGLGLGGRLLLGLGGLRGLGRRGLGGLRGGGLLRGGRGGLLGRRLRGLLRGLL\"\n",
    "test = Solution\n",
    "test.isRobotBounded(test,instructions)"
   ]
  },
  {
   "cell_type": "code",
   "execution_count": null,
   "metadata": {},
   "outputs": [],
   "source": []
  }
 ],
 "metadata": {
  "kernelspec": {
   "display_name": "Python 3",
   "language": "python",
   "name": "python3"
  },
  "language_info": {
   "codemirror_mode": {
    "name": "ipython",
    "version": 3
   },
   "file_extension": ".py",
   "mimetype": "text/x-python",
   "name": "python",
   "nbconvert_exporter": "python",
   "pygments_lexer": "ipython3",
   "version": "3.7.4"
  }
 },
 "nbformat": 4,
 "nbformat_minor": 2
}
