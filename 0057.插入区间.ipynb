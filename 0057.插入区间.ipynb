{
 "cells": [
  {
   "cell_type": "markdown",
   "metadata": {},
   "source": [
    "给出一个无重叠的 ，按照区间起始端点排序的区间列表。\n",
    "\n",
    "在列表中插入一个新的区间，你需要确保列表中的区间仍然有序且不重叠（如果有必要的话，可以合并区间）。\n",
    "\n",
    "**示例 1:**  \n",
    "输入: intervals = [[1,3],[6,9]], newInterval = [2,5]  \n",
    "输出: [[1,5],[6,9]]  \n",
    "\n",
    "**示例 2:**  \n",
    "输入: intervals = [[1,2],[3,5],[6,7],[8,10],[12,16]], newInterval = [4,8]  \n",
    "输出: [[1,2],[3,10],[12,16]]  \n",
    "解释: 这是因为新的区间 [4,8] 与 [3,5],[6,7],[8,10] 重叠。 \n",
    "\n",
    "来源：力扣（LeetCode）  \n",
    "链接：https://leetcode-cn.com/problems/insert-interval  \n",
    "著作权归领扣网络所有。商业转载请联系官方授权，非商业转载请注明出处。"
   ]
  },
  {
   "cell_type": "code",
   "execution_count": 1,
   "metadata": {},
   "outputs": [],
   "source": [
    "from typing import List"
   ]
  },
  {
   "cell_type": "code",
   "execution_count": 2,
   "metadata": {},
   "outputs": [],
   "source": [
    "class Solution:\n",
    "    def insert(self, intervals: List[List[int]], newInterval: List[int]) -> List[List[int]]:\n",
    "        intervals.append(newInterval)\n",
    "        intervals.sort()\n",
    "        newintervals = []\n",
    "        needpass = 0\n",
    "        for i in range(0,len(intervals)):\n",
    "#            print(intervals[i],needpass)\n",
    "            if needpass == 0:\n",
    "                left = intervals[i][0]\n",
    "                right = intervals[i][1]\n",
    "#                 if left > right:\n",
    "#                     intervals[i] = [right,left]\n",
    "#                     intervals.sort()\n",
    "#                 print([left,right])\n",
    "\n",
    "                for j in range(i+1,len(intervals)):\n",
    "                    if right >= intervals[j][0]:\n",
    "                        if right <= intervals[j][1]:\n",
    "                            right = intervals[j][1]                    \n",
    "                        needpass += 1\n",
    "                newintervals.append([left,right])\n",
    "            else:\n",
    "                needpass -= 1\n",
    "        return newintervals"
   ]
  },
  {
   "cell_type": "code",
   "execution_count": 3,
   "metadata": {},
   "outputs": [
    {
     "data": {
      "text/plain": [
       "[[1, 5], [6, 9]]"
      ]
     },
     "execution_count": 3,
     "metadata": {},
     "output_type": "execute_result"
    }
   ],
   "source": [
    "intervals = [[1,3],[6,9]]\n",
    "newInterval = [2,5]\n",
    "test = Solution\n",
    "test.insert(test,intervals,newInterval)"
   ]
  },
  {
   "cell_type": "code",
   "execution_count": 4,
   "metadata": {},
   "outputs": [
    {
     "data": {
      "text/plain": [
       "[[1, 2], [3, 10], [12, 16]]"
      ]
     },
     "execution_count": 4,
     "metadata": {},
     "output_type": "execute_result"
    }
   ],
   "source": [
    "intervals = [[1,2],[3,5],[6,7],[8,10],[12,16]]\n",
    "newInterval = [4,8]\n",
    "test = Solution\n",
    "test.insert(test,intervals,newInterval)"
   ]
  },
  {
   "cell_type": "code",
   "execution_count": 5,
   "metadata": {},
   "outputs": [],
   "source": [
    "# import cv2\n",
    "# import numpy as np\n",
    "\n",
    "# #读入图片：默认彩色图，cv2.IMREAD_GRAYSCALE灰度图，cv2.IMREAD_UNCHANGED包含alpha通道\n",
    "# img = cv2.imread(r'D:\\Anaconda Library\\LeeCodes\\results\\0057.png')\n",
    "# cv2.imshow('LeeCode Result',img)\n",
    "# # print(img.shape) # (h,w,c)\n",
    "# # print(img.size) # 像素总数目\n",
    "# # print(img.dtype)\n",
    "# # print(img)\n",
    "# cv2.waitKey()"
   ]
  }
 ],
 "metadata": {
  "kernelspec": {
   "display_name": "Python 3",
   "language": "python",
   "name": "python3"
  },
  "language_info": {
   "codemirror_mode": {
    "name": "ipython",
    "version": 3
   },
   "file_extension": ".py",
   "mimetype": "text/x-python",
   "name": "python",
   "nbconvert_exporter": "python",
   "pygments_lexer": "ipython3",
   "version": "3.7.4"
  }
 },
 "nbformat": 4,
 "nbformat_minor": 2
}
