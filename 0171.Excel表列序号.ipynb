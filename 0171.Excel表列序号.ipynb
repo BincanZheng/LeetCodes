{
 "cells": [
  {
   "cell_type": "markdown",
   "metadata": {},
   "source": [
    "例如，\n",
    "\n",
    "    A -> 1\n",
    "    B -> 2\n",
    "    C -> 3\n",
    "    ...\n",
    "    Z -> 26\n",
    "    AA -> 27\n",
    "    AB -> 28 \n",
    "    ...\n",
    "**示例 1:**  \n",
    "输入: \"A\"  \n",
    "输出: 1  \n",
    "\n",
    "**示例 2:**  \n",
    "输入: \"AB\"  \n",
    "输出: 28  \n",
    "\n",
    "**示例 3:**  \n",
    "输入: \"ZY\"  \n",
    "输出: 701"
   ]
  },
  {
   "cell_type": "code",
   "execution_count": 1,
   "metadata": {},
   "outputs": [],
   "source": [
    "class Solution:\n",
    "    def titleToNumber(self, s: str) -> int:\n",
    "        l = len(s)\n",
    "        numsum = 0\n",
    "        for i in range(0,l):\n",
    "            num = ord(s[i])-64\n",
    "            if l != 1:\n",
    "                if (l-1-i)!=0:\n",
    "                    numsum += num*26**(l-1-i)\n",
    "                else:\n",
    "                    numsum += num\n",
    "            else:\n",
    "                return num\n",
    "        return numsum\n",
    "    \n",
    "#         res = 0\n",
    "#         for strr in s:\n",
    "#             res += res * 25 + (ord(strr)-64)\n",
    "#         return res"
   ]
  },
  {
   "cell_type": "code",
   "execution_count": 2,
   "metadata": {},
   "outputs": [
    {
     "data": {
      "text/plain": [
       "27"
      ]
     },
     "execution_count": 2,
     "metadata": {},
     "output_type": "execute_result"
    }
   ],
   "source": [
    "test = Solution\n",
    "txt = 'AA'\n",
    "test.titleToNumber(test,txt)"
   ]
  },
  {
   "cell_type": "code",
   "execution_count": 3,
   "metadata": {},
   "outputs": [
    {
     "data": {
      "text/plain": [
       "28"
      ]
     },
     "execution_count": 3,
     "metadata": {},
     "output_type": "execute_result"
    }
   ],
   "source": [
    "test = Solution\n",
    "txt = 'AB'\n",
    "test.titleToNumber(test,txt)"
   ]
  },
  {
   "cell_type": "code",
   "execution_count": 4,
   "metadata": {},
   "outputs": [
    {
     "data": {
      "text/plain": [
       "701"
      ]
     },
     "execution_count": 4,
     "metadata": {},
     "output_type": "execute_result"
    }
   ],
   "source": [
    "test = Solution\n",
    "txt = 'ZY'\n",
    "test.titleToNumber(test,txt)"
   ]
  },
  {
   "cell_type": "code",
   "execution_count": 5,
   "metadata": {},
   "outputs": [
    {
     "data": {
      "text/plain": [
       "703"
      ]
     },
     "execution_count": 5,
     "metadata": {},
     "output_type": "execute_result"
    }
   ],
   "source": [
    "test = Solution\n",
    "txt = 'AAA'\n",
    "test.titleToNumber(test,txt)"
   ]
  },
  {
   "cell_type": "code",
   "execution_count": null,
   "metadata": {},
   "outputs": [],
   "source": []
  }
 ],
 "metadata": {
  "kernelspec": {
   "display_name": "Python 3",
   "language": "python",
   "name": "python3"
  },
  "language_info": {
   "codemirror_mode": {
    "name": "ipython",
    "version": 3
   },
   "file_extension": ".py",
   "mimetype": "text/x-python",
   "name": "python",
   "nbconvert_exporter": "python",
   "pygments_lexer": "ipython3",
   "version": "3.7.4"
  }
 },
 "nbformat": 4,
 "nbformat_minor": 2
}
