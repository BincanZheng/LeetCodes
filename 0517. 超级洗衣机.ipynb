{
 "cells": [
  {
   "cell_type": "markdown",
   "metadata": {},
   "source": [
    "假设有 n 台超级洗衣机放在同一排上。开始的时候，每台洗衣机内可能有一定量的衣服，也可能是空的。  \n",
    "在每一步操作中，你可以选择任意 m （1 ≤ m ≤ n） 台洗衣机，与此同时将每台洗衣机的一件衣服送到相邻的一台洗衣机。  \n",
    "给定一个非负整数数组代表从左至右每台洗衣机中的衣物数量，请给出能让所有洗衣机中剩下的衣物的数量相等的最少的操作步数。如果不能使每台洗衣机中衣物的数量相等，则返回 -1。  \n",
    "**示例 1：**  \n",
    "输入: [1,0,5]  \n",
    "输出: 3  \n",
    "解释:   \n",
    "第一步:    |1 == 0 <-- 5|    =>   | 1   ==  1  ==   4|  \n",
    "第二步:    |1 <-- 1 <-- 4|    =>   | 2  ==   1  ==   3|      \n",
    "第三步:    |2 == 1 <-- 3|    =>   | 2  ==   2  ==   2|   \n",
    "   \n",
    "**示例 2：**  \n",
    "输入: [0,3,0]  \n",
    "输出: 2  \n",
    "解释:   \n",
    "第一步:    0<--3==0    =>    1 == 2 == 0      \n",
    "第二步:    1==2-->0    =>    1 == 1 == 1   \n",
    "\n",
    "**示例 3:**  \n",
    "输入: [0,2,0]  \n",
    "输出: -1  \n",
    "解释:   \n",
    "不可能让所有三个洗衣机同时剩下相同数量的衣物。  \n",
    " \n",
    "  \n",
    "提示：  \n",
    "1.n 的范围是 [1, 10000]。  \n",
    "2.在每台超级洗衣机中，衣物数量的范围是 [0, 1e5]。  \n",
    " \n",
    " \n",
    "来源：力扣（LeetCode）  \n",
    "链接：https://leetcode-cn.com/problems/super-washing-machines  \n",
    "著作权归领扣网络所有。商业转载请联系官方授权，非商业转载请注明出处。  "
   ]
  },
  {
   "cell_type": "code",
   "execution_count": 1,
   "metadata": {
    "ExecuteTime": {
     "end_time": "2020-04-28T10:00:11.894847Z",
     "start_time": "2020-04-28T10:00:11.890858Z"
    }
   },
   "outputs": [],
   "source": [
    "from typing import List"
   ]
  },
  {
   "cell_type": "code",
   "execution_count": 2,
   "metadata": {
    "ExecuteTime": {
     "end_time": "2020-04-28T10:00:11.909807Z",
     "start_time": "2020-04-28T10:00:11.897838Z"
    }
   },
   "outputs": [],
   "source": [
    "class Solution:\n",
    "    def findMinMoves(self, machines: List[int]) -> int:\n",
    "        Lmean = int(sum(machines)/len(machines))\n",
    "        if sum(machines)%len(machines) != 0:\n",
    "            return -1\n",
    "        for i in range(len(machines)):\n",
    "            machines[i] -= Lmean\n",
    "        cur_sum = cur_max = res = 0\n",
    "        for m in machines:\n",
    "            cur_sum += m\n",
    "            cur_max = max(cur_max,abs(cur_sum))\n",
    "            res = max(res,cur_max,m)\n",
    "        return res"
   ]
  },
  {
   "cell_type": "code",
   "execution_count": 3,
   "metadata": {
    "ExecuteTime": {
     "end_time": "2020-04-28T10:00:11.917786Z",
     "start_time": "2020-04-28T10:00:11.911800Z"
    }
   },
   "outputs": [],
   "source": [
    "test = Solution"
   ]
  },
  {
   "cell_type": "code",
   "execution_count": 4,
   "metadata": {
    "ExecuteTime": {
     "end_time": "2020-04-28T10:00:11.934741Z",
     "start_time": "2020-04-28T10:00:11.919779Z"
    },
    "scrolled": false
   },
   "outputs": [
    {
     "name": "stdout",
     "output_type": "stream",
     "text": [
      "[1, 0, 5] ---> 3\n",
      "[0, 3, 0] ---> 2\n",
      "[0, 2, 0] ---> -1\n",
      "[0, 0, 11, 5] ---> 8\n",
      "[0, 0, 0, 4] ---> 3\n",
      "[0, 0, 0, 0, 5] ---> 4\n",
      "[0, 0, 0, 0, 10] ---> 8\n"
     ]
    }
   ],
   "source": [
    "for l in [[1,0,5],[0,3,0],[0,2,0],[0,0,11,5],[0,0,0,4],[0,0,0,0,5],[0,0,0,0,10]]:\n",
    "    a = l.copy()\n",
    "    print(a,'--->',test.findMinMoves(test,l))"
   ]
  },
  {
   "cell_type": "code",
   "execution_count": null,
   "metadata": {},
   "outputs": [],
   "source": []
  }
 ],
 "metadata": {
  "kernelspec": {
   "display_name": "Python 3",
   "language": "python",
   "name": "python3"
  },
  "language_info": {
   "codemirror_mode": {
    "name": "ipython",
    "version": 3
   },
   "file_extension": ".py",
   "mimetype": "text/x-python",
   "name": "python",
   "nbconvert_exporter": "python",
   "pygments_lexer": "ipython3",
   "version": "3.7.4"
  },
  "toc": {
   "base_numbering": 1,
   "nav_menu": {},
   "number_sections": true,
   "sideBar": true,
   "skip_h1_title": false,
   "title_cell": "Table of Contents",
   "title_sidebar": "Contents",
   "toc_cell": false,
   "toc_position": {},
   "toc_section_display": true,
   "toc_window_display": false
  }
 },
 "nbformat": 4,
 "nbformat_minor": 2
}
