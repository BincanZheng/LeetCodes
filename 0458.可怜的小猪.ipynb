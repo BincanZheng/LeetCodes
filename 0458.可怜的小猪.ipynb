{
 "cells": [
  {
   "cell_type": "markdown",
   "metadata": {},
   "source": [
    "有 1000 只水桶，其中有且只有一桶装的含有毒药，其余装的都是水。它们从外观看起来都一样。如果小猪喝了毒药，它会在 15 分钟内死去。  \n",
    "\n",
    "问题来了，如果需要你在一小时内，弄清楚哪只水桶含有毒药，你最少需要多少只猪？  \n",
    " \n",
    "回答这个问题，并为下列的进阶问题编写一个通用算法。  \n",
    "\n",
    " \n",
    "\n",
    "进阶:  \n",
    "\n",
    "假设有 n 只水桶，猪饮水中毒后会在 m 分钟内死亡，你需要多少猪（x）就能在 p 分钟内找出 “有毒” 水桶？这 n 只水桶里有且仅有一只有毒的桶。  \n",
    "\n",
    "提示：  \n",
    "\n",
    "可以允许小猪同时饮用任意数量的桶中的水，并且该过程不需要时间。  \n",
    "小猪喝完水后，必须有 m 分钟的冷却时间。在这段时间里，只允许观察，而不允许继续饮水。  \n",
    "任何给定的桶都可以无限次采样（无限数量的猪）。  \n",
    "\n",
    "来源：力扣（LeetCode）  \n",
    "链接：https://leetcode-cn.com/problems/poor-pigs  \n",
    "著作权归领扣网络所有。商业转载请联系官方授权，非商业转载请注明出处。  "
   ]
  },
  {
   "cell_type": "code",
   "execution_count": 4,
   "metadata": {},
   "outputs": [],
   "source": [
    "class Solution:\n",
    "    def poorPigs(self, buckets: int, minutesToDie: int, minutesToTest: int) -> int:\n",
    "        timesToDrink = minutesToTest / minutesToDie + 1\n",
    "        i = 0\n",
    "        number = 1\n",
    "        while number<buckets:\n",
    "            number *= timesToDrink\n",
    "            i += 1\n",
    "        return i"
   ]
  },
  {
   "cell_type": "code",
   "execution_count": null,
   "metadata": {},
   "outputs": [],
   "source": [
    "import math\n",
    "class Solution:\n",
    "    def poorPigs(self, buckets: int, minutesToDie: int, minutesToTest: int) -> int:\n",
    "        timesToDrink = minutesToTest / minutesToDie\n",
    "        return math.ceil(math.log(buckets)/math.log(timesToDrink+1))"
   ]
  }
 ],
 "metadata": {
  "kernelspec": {
   "display_name": "Python 3",
   "language": "python",
   "name": "python3"
  },
  "language_info": {
   "codemirror_mode": {
    "name": "ipython",
    "version": 3
   },
   "file_extension": ".py",
   "mimetype": "text/x-python",
   "name": "python",
   "nbconvert_exporter": "python",
   "pygments_lexer": "ipython3",
   "version": "3.7.4"
  }
 },
 "nbformat": 4,
 "nbformat_minor": 2
}
