{
 "cells": [
  {
   "cell_type": "markdown",
   "metadata": {},
   "source": [
    "Range 模块是跟踪数字范围的模块。你的任务是以一种有效的方式设计和实现以下接口。  \n",
    "  \n",
    "addRange(int left, int right) 添加半开区间 [left, right)，跟踪该区间中的每个实数。添加与当前跟踪的数字部分重叠的区间时，应当添加在区间 [left, right) 中尚未跟踪的任何数字到该区间中。  \n",
    "queryRange(int left, int right) 只有在当前正在跟踪区间 [left, right) 中的每一个实数时，才返回 true。  \n",
    "removeRange(int left, int right) 停止跟踪区间 [left, right) 中当前正在跟踪的每个实数。  \n",
    "  \n",
    "**示例：**\n",
    "  \n",
    "addRange(10, 20): null  \n",
    "removeRange(14, 16): null  \n",
    "queryRange(10, 14): true （区间 [10, 14) 中的每个数都正在被跟踪）  \n",
    "queryRange(13, 15): false （未跟踪区间 [13, 15) 中像 14, 14.03, 14.17 这样的数字）  \n",
    "queryRange(16, 17): true （尽管执行了删除操作，区间 [16, 17) 中的数字 16 仍然会被跟踪）  \n",
    "   \n",
    "  \n",
    "提示：  \n",
    "  \n",
    "半开区间 [left, right) 表示所有满足 left <= x < right 的实数。  \n",
    "对 addRange, queryRange, removeRange 的所有调用中 0 < left < right < 10^9。  \n",
    "在单个测试用例中，对 addRange 的调用总数不超过 1000 次。  \n",
    "在单个测试用例中，对  queryRange 的调用总数不超过 5000 次。  \n",
    "在单个测试用例中，对 removeRange 的调用总数不超过 1000 次。  \n",
    "  \n",
    "来源：力扣（LeetCode）  \n",
    "链接：https://leetcode-cn.com/problems/range-module  \n",
    "著作权归领扣网络所有。商业转载请联系官方授权，非商业转载请注明出处。  "
   ]
  },
  {
   "cell_type": "code",
   "execution_count": 1,
   "metadata": {
    "ExecuteTime": {
     "end_time": "2020-05-29T09:20:15.240761Z",
     "start_time": "2020-05-29T09:20:15.236174Z"
    }
   },
   "outputs": [],
   "source": [
    "# class RangeModule:\n",
    "#     l = []\n",
    "#     def __init__(self):\n",
    "#         l = []\n",
    "\n",
    "#     def addRange(self, left: int, right: int) -> None:\n",
    "#         new_l = self.l + [i for i in range(left,right)]\n",
    "#         self.l = []\n",
    "#         for num in new_l:\n",
    "#             if num not in self.l:\n",
    "#                 self.l.append(num)\n",
    "\n",
    "#     def queryRange(self, left: int, right: int) -> bool:\n",
    "#         for num in range(left,right):\n",
    "#             if num not in self.l:\n",
    "#                 return False\n",
    "#         return True\n",
    "\n",
    "#     def removeRange(self, left: int, right: int) -> None:\n",
    "#         for num in [i for i in range(left,right)]:\n",
    "#             try:\n",
    "#                 self.l.remove(num)\n",
    "#             except:\n",
    "#                 pass"
   ]
  },
  {
   "cell_type": "code",
   "execution_count": 2,
   "metadata": {
    "ExecuteTime": {
     "end_time": "2020-05-29T09:20:15.266691Z",
     "start_time": "2020-05-29T09:20:15.244750Z"
    }
   },
   "outputs": [],
   "source": [
    "import bisect\n",
    "\n",
    "class RangeModule:\n",
    "    def __init__(self):\n",
    "        self.ranges = []\n",
    "    \n",
    "    def _bounds(self,left,right):\n",
    "        i,j = 0,len(self.ranges)-1\n",
    "        for d in (100,10,1):\n",
    "            while i+d-1 < len(self.ranges) and self.ranges[i+d-1][1] < left:\n",
    "                i += d\n",
    "            while j >= d-1 and self.ranges[j-d+1][0] > right:\n",
    "                j -= d\n",
    "        return i,j\n",
    "    \n",
    "    def addRange(self, left: int, right: int) -> None:\n",
    "        i,j = self._bounds(left,right)\n",
    "        if i <= j:\n",
    "            left = min(left,selfelf.ranges[i][0])\n",
    "            right = max(right,self.ranges[j][1])\n",
    "        self.ranges[i:j+1] = [(left,right)]\n",
    "        \n",
    "    def queryRange(self, left: int, right: int) -> bool:\n",
    "        i = bisect.bisect_left(self.ranges, (left, float('inf')))\n",
    "        if i: i -= 1\n",
    "        return (bool(self.ranges) and\n",
    "                self.ranges[i][0] <= left and\n",
    "                right <= self.ranges[i][1])\n",
    "\n",
    "    def removeRange(self, left: int, right: int) -> None:\n",
    "        i, j = self._bounds(left, right)\n",
    "        merge = []\n",
    "        for k in range(i, j+1):\n",
    "            if self.ranges[k][0] < left:\n",
    "                merge.append((self.ranges[k][0], left))\n",
    "            if right < self.ranges[k][1]:\n",
    "                merge.append((right, self.ranges[k][1]))\n",
    "        self.ranges[i:j+1] = merge\n",
    "        "
   ]
  },
  {
   "cell_type": "code",
   "execution_count": 3,
   "metadata": {
    "ExecuteTime": {
     "end_time": "2020-05-29T09:20:15.280313Z",
     "start_time": "2020-05-29T09:20:15.270680Z"
    }
   },
   "outputs": [],
   "source": [
    "# Your RangeModule object will be instantiated and called as such:\n",
    "\n",
    "obj = RangeModule()\n",
    "left,right = 99475335,177772598\n",
    "obj.addRange(left,right)\n",
    "left,right = 239661173,878670212\n",
    "param_1 = obj.queryRange(left,right)\n",
    "left,right = 14,16\n",
    "obj.removeRange(left,right)\n",
    "left,right = 133636148,812679506\n",
    "param_2 = obj.queryRange(left,right)\n",
    "left,right = 102311515,413079263\n",
    "param_3 = obj.queryRange(left,right)\n"
   ]
  },
  {
   "cell_type": "code",
   "execution_count": 4,
   "metadata": {
    "ExecuteTime": {
     "end_time": "2020-05-29T09:20:15.297301Z",
     "start_time": "2020-05-29T09:20:15.283303Z"
    }
   },
   "outputs": [
    {
     "data": {
      "text/plain": [
       "(False, False, False)"
      ]
     },
     "execution_count": 4,
     "metadata": {},
     "output_type": "execute_result"
    }
   ],
   "source": [
    "param_1,param_2,param_3"
   ]
  },
  {
   "cell_type": "code",
   "execution_count": null,
   "metadata": {},
   "outputs": [],
   "source": []
  }
 ],
 "metadata": {
  "kernelspec": {
   "display_name": "Python 3",
   "language": "python",
   "name": "python3"
  },
  "language_info": {
   "codemirror_mode": {
    "name": "ipython",
    "version": 3
   },
   "file_extension": ".py",
   "mimetype": "text/x-python",
   "name": "python",
   "nbconvert_exporter": "python",
   "pygments_lexer": "ipython3",
   "version": "3.7.4"
  },
  "toc": {
   "base_numbering": 1,
   "nav_menu": {},
   "number_sections": true,
   "sideBar": true,
   "skip_h1_title": false,
   "title_cell": "Table of Contents",
   "title_sidebar": "Contents",
   "toc_cell": false,
   "toc_position": {},
   "toc_section_display": true,
   "toc_window_display": false
  }
 },
 "nbformat": 4,
 "nbformat_minor": 2
}
