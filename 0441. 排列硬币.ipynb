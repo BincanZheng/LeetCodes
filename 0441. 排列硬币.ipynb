{
 "cells": [
  {
   "cell_type": "markdown",
   "metadata": {},
   "source": [
    "你总共有 n 枚硬币，你需要将它们摆成一个阶梯形状，第 k 行就必须正好有 k 枚硬币。  \n",
    "\n",
    "给定一个数字 n，找出可形成完整阶梯行的总行数。  \n",
    "\n",
    "n 是一个非负整数，并且在32位有符号整型的范围内。  \n",
    "\n",
    "**示例 1:**  \n",
    "n = 5  \n",
    "硬币可排列成以下几行:  \n",
    "¤  \n",
    "¤ ¤  \n",
    "¤ ¤  \n",
    "因为第三行不完整，所以返回2.  \n",
    "\n",
    "**示例 2:**  \n",
    "n = 8  \n",
    "硬币可排列成以下几行:  \n",
    "¤  \n",
    "¤ ¤  \n",
    "¤ ¤ ¤  \n",
    "¤ ¤  \n",
    "因为第四行不完整，所以返回3.  \n",
    "\n",
    "来源：力扣（LeetCode）  \n",
    "链接：https://leetcode-cn.com/problems/arranging-coins  \n",
    "著作权归领扣网络所有。商业转载请联系官方授权，非商业转载请注明出处。  "
   ]
  },
  {
   "cell_type": "code",
   "execution_count": 1,
   "metadata": {
    "ExecuteTime": {
     "end_time": "2020-04-28T08:31:48.208197Z",
     "start_time": "2020-04-28T08:31:48.204206Z"
    }
   },
   "outputs": [],
   "source": [
    "class Solution:\n",
    "    def arrangeCoins(self, n: int) -> int:  \n",
    "        return int(((8 * n + 1) ** 0.5 - 1) // 2)"
   ]
  },
  {
   "cell_type": "code",
   "execution_count": 2,
   "metadata": {
    "ExecuteTime": {
     "end_time": "2020-04-28T08:31:48.226627Z",
     "start_time": "2020-04-28T08:31:48.220642Z"
    }
   },
   "outputs": [],
   "source": [
    "class Solution:\n",
    "    def arrangeCoins(self, n: int) -> int:\n",
    "        cur_level = 0\n",
    "        while n > cur_level:\n",
    "            cur_level += 1\n",
    "            n -= cur_level\n",
    "        return cur_level"
   ]
  },
  {
   "cell_type": "code",
   "execution_count": 3,
   "metadata": {
    "ExecuteTime": {
     "end_time": "2020-04-28T08:31:48.235602Z",
     "start_time": "2020-04-28T08:31:48.228620Z"
    }
   },
   "outputs": [],
   "source": [
    "test = Solution"
   ]
  },
  {
   "cell_type": "code",
   "execution_count": 4,
   "metadata": {
    "ExecuteTime": {
     "end_time": "2020-04-28T08:31:48.250459Z",
     "start_time": "2020-04-28T08:31:48.237597Z"
    }
   },
   "outputs": [
    {
     "data": {
      "text/plain": [
       "2"
      ]
     },
     "execution_count": 4,
     "metadata": {},
     "output_type": "execute_result"
    }
   ],
   "source": [
    "n = 5\n",
    "test.arrangeCoins(test,n)"
   ]
  },
  {
   "cell_type": "code",
   "execution_count": 5,
   "metadata": {
    "ExecuteTime": {
     "end_time": "2020-04-28T08:31:48.264422Z",
     "start_time": "2020-04-28T08:31:48.253453Z"
    }
   },
   "outputs": [
    {
     "name": "stdout",
     "output_type": "stream",
     "text": [
      "n=5 left=2\n",
      "n=8 left=3\n",
      "n=9 left=3\n",
      "n=10 left=4\n",
      "n=100 left=13\n",
      "n=2000 left=62\n"
     ]
    }
   ],
   "source": [
    "for n in [5,8,9,10,100,2000]:\n",
    "    print('n={} left={}'.format(n,test.arrangeCoins(test,n)))"
   ]
  },
  {
   "cell_type": "code",
   "execution_count": null,
   "metadata": {},
   "outputs": [],
   "source": []
  }
 ],
 "metadata": {
  "kernelspec": {
   "display_name": "Python 3",
   "language": "python",
   "name": "python3"
  },
  "language_info": {
   "codemirror_mode": {
    "name": "ipython",
    "version": 3
   },
   "file_extension": ".py",
   "mimetype": "text/x-python",
   "name": "python",
   "nbconvert_exporter": "python",
   "pygments_lexer": "ipython3",
   "version": "3.7.4"
  },
  "toc": {
   "base_numbering": 1,
   "nav_menu": {},
   "number_sections": true,
   "sideBar": true,
   "skip_h1_title": false,
   "title_cell": "Table of Contents",
   "title_sidebar": "Contents",
   "toc_cell": false,
   "toc_position": {},
   "toc_section_display": true,
   "toc_window_display": false
  }
 },
 "nbformat": 4,
 "nbformat_minor": 2
}
