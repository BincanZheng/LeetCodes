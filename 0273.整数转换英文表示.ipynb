{
 "cells": [
  {
   "cell_type": "markdown",
   "metadata": {},
   "source": [
    "将非负整数转换为其对应的英文表示。可以保证给定输入小于2^31 - 1 。  \n",
    "\n",
    "**示例 1:**  \n",
    "**输入**: 123  \n",
    "**输出**: \"One Hundred Twenty Three\"  \n",
    "\n",
    "**示例 2**:  \n",
    "**输入**: 12345  \n",
    "**输出**: \"Twelve Thousand Three Hundred Forty Five\"  \n",
    "\n",
    "**示例 3:**  \n",
    "**输入**: 1234567  \n",
    "**输出**: \"One Million Two Hundred Thirty Four Thousand Five Hundred Sixty Seven\"  \n",
    "\n",
    "**示例 4:**  \n",
    "**输入**: 1234567891  \n",
    "**输出**: \"One Billion Two Hundred Thirty Four Million Five Hundred Sixty Seven Thousand Eight Hundred Ninety One\"  \n",
    "\n",
    "来源：力扣（LeetCode）  \n",
    "链接：https://leetcode-cn.com/problems/integer-to-english-words  \n",
    "著作权归领扣网络所有。商业转载请联系官方授权，非商业转载请注明出处。  "
   ]
  },
  {
   "cell_type": "raw",
   "metadata": {},
   "source": [
    " 10      987     654    321        \n",
    "billion  million  thousand  hundread"
   ]
  },
  {
   "cell_type": "code",
   "execution_count": 2,
   "metadata": {
    "scrolled": true
   },
   "outputs": [
    {
     "data": {
      "text/plain": [
       "2147483648"
      ]
     },
     "execution_count": 2,
     "metadata": {},
     "output_type": "execute_result"
    }
   ],
   "source": [
    "2**31-1"
   ]
  },
  {
   "cell_type": "code",
   "execution_count": 26,
   "metadata": {},
   "outputs": [
    {
     "data": {
      "text/plain": [
       "(648, 2147483)"
      ]
     },
     "execution_count": 26,
     "metadata": {},
     "output_type": "execute_result"
    }
   ],
   "source": [
    "2**31%1000,2**31//1000"
   ]
  },
  {
   "cell_type": "code",
   "execution_count": 24,
   "metadata": {},
   "outputs": [
    {
     "data": {
      "text/plain": [
       "(3, 1)"
      ]
     },
     "execution_count": 24,
     "metadata": {},
     "output_type": "execute_result"
    }
   ],
   "source": [
    "10//3,10%3"
   ]
  },
  {
   "cell_type": "code",
   "execution_count": 76,
   "metadata": {},
   "outputs": [],
   "source": [
    "a= 'asa sadasd  asdasd '"
   ]
  },
  {
   "cell_type": "code",
   "execution_count": 86,
   "metadata": {},
   "outputs": [],
   "source": [
    "class Solution:\n",
    "    global digits\n",
    "    global ten_digits\n",
    "    global twenty_digits\n",
    "    digits = ['','One','Two','Three','Four','Five','Six','Seven','Eight','Nine']\n",
    "    ten_digits = ['Ten','Eleven','Twelve','Thirteen','Fourteen','Fifteen','Sixteen','Seventeen','Eighteen','Nineteen']\n",
    "    twenty_digits = ['','','Twenty','Thirty','Forty','Fifty','Sixty','Seventy','Eighty','Ninety']\n",
    "    \n",
    "    def numberToWords(self, num: int) -> str:\n",
    "        if num == 0: return 'Zero'\n",
    "        part1 = num % 1000\n",
    "        num = num // 1000\n",
    "        part2 = num % 1000\n",
    "        num = num // 1000\n",
    "        part3 = num % 1000\n",
    "        num = num // 1000\n",
    "        part4 = num % 1000\n",
    "\n",
    "        ans = ''\n",
    "        \n",
    "        if part4 != 0:\n",
    "            ans += Solution.three_number_to_str(part4,True)+'Billion '\n",
    "        if part3 != 0:\n",
    "            ans += Solution.three_number_to_str(part3,True)+'Million '\n",
    "        if part2 != 0:\n",
    "            ans += Solution.three_number_to_str(part2,True)+'Thousand '\n",
    "        if part1 != 0:\n",
    "            ans += Solution.three_number_to_str(part1,False)\n",
    "        ans = ans.replace('  ',' ')\n",
    "        if ans[-1] == ' ':\n",
    "            ans = ans[0:-1]\n",
    "        return ans\n",
    "    \n",
    "    def three_number_to_str(num:int,last_space:bool) -> str:\n",
    "        a = num%10\n",
    "        num=num//10\n",
    "        b = num%10\n",
    "        num=num//10\n",
    "        c = num%10\n",
    "        num=num//10\n",
    "        ans = ''\n",
    "        if c != 0:\n",
    "            ans+=digits[c]+ ' Hundred' + ' '\n",
    "        if b == 1:\n",
    "            \n",
    "            ans+=ten_digits[a] + ' '\n",
    "        elif b > 1:\n",
    "            ans+=twenty_digits[b] + ' '+digits[a] + ' '\n",
    "        else:\n",
    "            ans+=digits[a] + ' '\n",
    "        return ans"
   ]
  },
  {
   "cell_type": "code",
   "execution_count": 87,
   "metadata": {},
   "outputs": [
    {
     "data": {
      "text/plain": [
       "'One Hundred Three'"
      ]
     },
     "execution_count": 87,
     "metadata": {},
     "output_type": "execute_result"
    }
   ],
   "source": [
    "num = 103\n",
    "test = Solution\n",
    "test.numberToWords(test,num)"
   ]
  },
  {
   "cell_type": "code",
   "execution_count": 88,
   "metadata": {},
   "outputs": [
    {
     "data": {
      "text/plain": [
       "'One Billion Two Hundred Thirty Four Million Five Hundred Sixty Seven Thousand Eight Hundred Ninety One'"
      ]
     },
     "execution_count": 88,
     "metadata": {},
     "output_type": "execute_result"
    }
   ],
   "source": [
    "num = 1234567891\n",
    "test = Solution\n",
    "test.numberToWords(test,num)"
   ]
  },
  {
   "cell_type": "code",
   "execution_count": 89,
   "metadata": {},
   "outputs": [
    {
     "data": {
      "text/plain": [
       "'Twenty'"
      ]
     },
     "execution_count": 89,
     "metadata": {},
     "output_type": "execute_result"
    }
   ],
   "source": [
    "num = 20\n",
    "test = Solution\n",
    "test.numberToWords(test,num)"
   ]
  },
  {
   "cell_type": "code",
   "execution_count": 90,
   "metadata": {},
   "outputs": [
    {
     "data": {
      "text/plain": [
       "'One Thousand'"
      ]
     },
     "execution_count": 90,
     "metadata": {},
     "output_type": "execute_result"
    }
   ],
   "source": [
    "num = 1000\n",
    "test = Solution\n",
    "test.numberToWords(test,num)"
   ]
  },
  {
   "cell_type": "code",
   "execution_count": 91,
   "metadata": {},
   "outputs": [
    {
     "data": {
      "text/plain": [
       "'Two Thousand'"
      ]
     },
     "execution_count": 91,
     "metadata": {},
     "output_type": "execute_result"
    }
   ],
   "source": [
    "num = 2000\n",
    "test = Solution\n",
    "test.numberToWords(test,num)"
   ]
  },
  {
   "cell_type": "code",
   "execution_count": 92,
   "metadata": {},
   "outputs": [
    {
     "data": {
      "text/plain": [
       "'Ten Thousand'"
      ]
     },
     "execution_count": 92,
     "metadata": {},
     "output_type": "execute_result"
    }
   ],
   "source": [
    "num = 10000\n",
    "test = Solution\n",
    "test.numberToWords(test,num)"
   ]
  },
  {
   "cell_type": "code",
   "execution_count": 93,
   "metadata": {},
   "outputs": [
    {
     "data": {
      "text/plain": [
       "'One Hundred Thousand'"
      ]
     },
     "execution_count": 93,
     "metadata": {},
     "output_type": "execute_result"
    }
   ],
   "source": [
    "num = 100000\n",
    "test = Solution\n",
    "test.numberToWords(test,num)"
   ]
  },
  {
   "cell_type": "code",
   "execution_count": 94,
   "metadata": {},
   "outputs": [
    {
     "data": {
      "text/plain": [
       "'One Million'"
      ]
     },
     "execution_count": 94,
     "metadata": {},
     "output_type": "execute_result"
    }
   ],
   "source": [
    "num = 1000000\n",
    "test = Solution\n",
    "test.numberToWords(test,num)"
   ]
  },
  {
   "cell_type": "code",
   "execution_count": null,
   "metadata": {},
   "outputs": [],
   "source": []
  }
 ],
 "metadata": {
  "kernelspec": {
   "display_name": "Python 3",
   "language": "python",
   "name": "python3"
  },
  "language_info": {
   "codemirror_mode": {
    "name": "ipython",
    "version": 3
   },
   "file_extension": ".py",
   "mimetype": "text/x-python",
   "name": "python",
   "nbconvert_exporter": "python",
   "pygments_lexer": "ipython3",
   "version": "3.7.4"
  }
 },
 "nbformat": 4,
 "nbformat_minor": 2
}
