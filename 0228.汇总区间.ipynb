{
 "cells": [
  {
   "cell_type": "markdown",
   "metadata": {},
   "source": [
    "给定一个无重复元素的有序整数数组，返回数组区间范围的汇总。  \n",
    "  \n",
    "**示例 1:**\n",
    "  \n",
    "输入: [0,1,2,4,5,7]  \n",
    "输出: [\"0->2\",\"4->5\",\"7\"]  \n",
    "解释: 0,1,2 可组成一个连续的区间; 4,5 可组成一个连续的区间。  \n",
    "  \n",
    "**示例 2:**    \n",
    "  \n",
    "输入: [0,2,3,4,6,8,9]  \n",
    "输出: [\"0\",\"2->4\",\"6\",\"8->9\"]  \n",
    "解释: 2,3,4 可组成一个连续的区间; 8,9 可组成一个连续的区间。  \n",
    "  \n",
    "来源：力扣（LeetCode）  \n",
    "链接：https://leetcode-cn.com/problems/summary-ranges  \n",
    "著作权归领扣网络所有。商业转载请联系官方授权，非商业转载请注明出处。  "
   ]
  },
  {
   "cell_type": "code",
   "execution_count": 2,
   "metadata": {
    "ExecuteTime": {
     "end_time": "2020-07-16T09:23:59.877130Z",
     "start_time": "2020-07-16T09:23:59.873143Z"
    }
   },
   "outputs": [],
   "source": [
    "from typing import List"
   ]
  },
  {
   "cell_type": "code",
   "execution_count": 9,
   "metadata": {
    "ExecuteTime": {
     "end_time": "2020-07-16T09:27:32.787169Z",
     "start_time": "2020-07-16T09:27:32.780187Z"
    }
   },
   "outputs": [],
   "source": [
    "class Solution:\n",
    "    def summaryRanges(self, nums: List[int]) -> List[str]:\n",
    "        if len(nums)==0:\n",
    "            return []\n",
    "        newList = []\n",
    "        cur_start = nums[0]\n",
    "        cur_last = nums[0]\n",
    "        for i in range(1,len(nums)):\n",
    "            if (nums[i] - cur_last) > 1:\n",
    "                if cur_last == cur_start:\n",
    "                    newList.append('{}'.format(cur_start))\n",
    "                else:\n",
    "                    newList.append('{}->{}'.format(cur_start,cur_last))\n",
    "                cur_start = nums[i]\n",
    "                cur_last = nums[i]\n",
    "            else:\n",
    "                cur_last = nums[i]\n",
    "        \n",
    "        if cur_last == cur_start:\n",
    "            newList.append('{}'.format(cur_start))\n",
    "        else:\n",
    "            newList.append('{}->{}'.format(cur_start,cur_last))\n",
    "        return newList"
   ]
  },
  {
   "cell_type": "code",
   "execution_count": 10,
   "metadata": {
    "ExecuteTime": {
     "end_time": "2020-07-16T09:27:33.171218Z",
     "start_time": "2020-07-16T09:27:33.166233Z"
    }
   },
   "outputs": [
    {
     "data": {
      "text/plain": [
       "['0->2', '4->5', '7']"
      ]
     },
     "execution_count": 10,
     "metadata": {},
     "output_type": "execute_result"
    }
   ],
   "source": [
    "nums = [0,1,2,4,5,7]\n",
    "test = Solution\n",
    "test.summaryRanges(test,nums)"
   ]
  },
  {
   "cell_type": "code",
   "execution_count": 11,
   "metadata": {
    "ExecuteTime": {
     "end_time": "2020-07-16T09:27:53.450485Z",
     "start_time": "2020-07-16T09:27:53.444205Z"
    }
   },
   "outputs": [
    {
     "data": {
      "text/plain": [
       "['0', '2->4', '6', '8->9']"
      ]
     },
     "execution_count": 11,
     "metadata": {},
     "output_type": "execute_result"
    }
   ],
   "source": [
    "nums = [0,2,3,4,6,8,9]\n",
    "test = Solution\n",
    "test.summaryRanges(test,nums)"
   ]
  },
  {
   "cell_type": "code",
   "execution_count": null,
   "metadata": {},
   "outputs": [],
   "source": []
  }
 ],
 "metadata": {
  "kernelspec": {
   "display_name": "Python 3",
   "language": "python",
   "name": "python3"
  },
  "language_info": {
   "codemirror_mode": {
    "name": "ipython",
    "version": 3
   },
   "file_extension": ".py",
   "mimetype": "text/x-python",
   "name": "python",
   "nbconvert_exporter": "python",
   "pygments_lexer": "ipython3",
   "version": "3.7.4"
  },
  "toc": {
   "base_numbering": 1,
   "nav_menu": {},
   "number_sections": true,
   "sideBar": true,
   "skip_h1_title": false,
   "title_cell": "Table of Contents",
   "title_sidebar": "Contents",
   "toc_cell": false,
   "toc_position": {},
   "toc_section_display": true,
   "toc_window_display": false
  },
  "varInspector": {
   "cols": {
    "lenName": 16,
    "lenType": 16,
    "lenVar": 40
   },
   "kernels_config": {
    "python": {
     "delete_cmd_postfix": "",
     "delete_cmd_prefix": "del ",
     "library": "var_list.py",
     "varRefreshCmd": "print(var_dic_list())"
    },
    "r": {
     "delete_cmd_postfix": ") ",
     "delete_cmd_prefix": "rm(",
     "library": "var_list.r",
     "varRefreshCmd": "cat(var_dic_list()) "
    }
   },
   "types_to_exclude": [
    "module",
    "function",
    "builtin_function_or_method",
    "instance",
    "_Feature"
   ],
   "window_display": false
  }
 },
 "nbformat": 4,
 "nbformat_minor": 2
}
