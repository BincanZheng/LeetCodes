{
 "cells": [
  {
   "cell_type": "markdown",
   "metadata": {},
   "source": [
    "从点 (x, y) 可以转换到 (x, x+y)  或者 (x+y, y)。  \n",
    "给定一个起点 (sx, sy) 和一个终点 (tx, ty)，如果通过一系列的转换可以从起点到达终点，则返回 True ，否则返回 False。  \n",
    "  \n",
    "**示例:**  \n",
    "输入: sx = 1, sy = 1, tx = 3, ty = 5  \n",
    "输出: True  \n",
    "解释:  \n",
    "可以通过以下一系列转换从起点转换到终点：  \n",
    "(1, 1) -> (1, 2)  \n",
    "(1, 2) -> (3, 2)  \n",
    "(3, 2) -> (3, 5) \n",
    "  \n",
    "输入: sx = 1, sy = 1, tx = 2, ty = 2  \n",
    "输出: False\n",
    "  \n",
    "输入: sx = 1, sy = 1, tx = 1, ty = 1  \n",
    "输出: True\n",
    "\n",
    "  \n",
    "来源：力扣（LeetCode）  \n",
    "链接：https://leetcode-cn.com/problems/reaching-points  \n",
    "著作权归领扣网络所有。商业转载请联系官方授权，非商业转载请注明出处。  "
   ]
  },
  {
   "cell_type": "code",
   "execution_count": null,
   "metadata": {},
   "outputs": [],
   "source": [
    "class Solution:\n",
    "    def reachingPoints(self, sx: int, sy: int, tx: int, ty: int) -> bool:\n",
    "        if sx==tx and sy==ty:\n",
    "            return True\n",
    "        while tx-ty>=sx or ty-tx>=sy:\n",
    "            if tx-ty>=sx: tx = tx-ty\n",
    "            if sx==tx and sy==ty:\n",
    "                return True\n",
    "            if ty-tx>=sy: ty = ty-tx\n",
    "            if sx==tx and sy==ty:\n",
    "                return True\n",
    "        return False"
   ]
  },
  {
   "cell_type": "code",
   "execution_count": null,
   "metadata": {},
   "outputs": [],
   "source": [
    "class Solution:\n",
    "    def reachingPoints(self, sx: int, sy: int, tx: int, ty: int) -> bool:\n",
    "        while tx>=sx and ty>=sy:\n",
    "            if tx==ty:\n",
    "                break\n",
    "            elif tx>ty:\n",
    "                if ty>sy:\n",
    "                    tx %= ty\n",
    "                else:\n",
    "                    return (tx-sx)%ty == 0\n",
    "            else:\n",
    "                if tx>sx:\n",
    "                    ty %= tx\n",
    "                else:\n",
    "                    return (ty-sy)%tx == 0\n",
    "        return tx==sx and ty==sy"
   ]
  },
  {
   "cell_type": "code",
   "execution_count": null,
   "metadata": {},
   "outputs": [],
   "source": [
    "sx = 1\n",
    "sy = 1\n",
    "tx = 3\n",
    "ty = 5\n",
    "test = Solution\n",
    "test.reachingPoints(test,sx,sy,tx,ty)"
   ]
  },
  {
   "cell_type": "code",
   "execution_count": null,
   "metadata": {},
   "outputs": [],
   "source": [
    "sx = 1\n",
    "sy = 1\n",
    "tx = 2\n",
    "ty = 2\n",
    "test = Solution\n",
    "test.reachingPoints(test,sx,sy,tx,ty)"
   ]
  },
  {
   "cell_type": "code",
   "execution_count": null,
   "metadata": {},
   "outputs": [],
   "source": [
    "sx = 1\n",
    "sy = 1\n",
    "tx = 1\n",
    "ty = 1\n",
    "test = Solution\n",
    "test.reachingPoints(test,sx,sy,tx,ty)"
   ]
  },
  {
   "cell_type": "code",
   "execution_count": null,
   "metadata": {},
   "outputs": [],
   "source": [
    "sx = 1\n",
    "sy = 1\n",
    "tx = 1000000000\n",
    "ty = 1\n",
    "test = Solution\n",
    "test.reachingPoints(test,sx,sy,tx,ty)"
   ]
  },
  {
   "cell_type": "code",
   "execution_count": null,
   "metadata": {},
   "outputs": [],
   "source": []
  }
 ],
 "metadata": {
  "kernelspec": {
   "display_name": "Python 3",
   "language": "python",
   "name": "python3"
  },
  "language_info": {
   "codemirror_mode": {
    "name": "ipython",
    "version": 3
   },
   "file_extension": ".py",
   "mimetype": "text/x-python",
   "name": "python",
   "nbconvert_exporter": "python",
   "pygments_lexer": "ipython3",
   "version": "3.7.4"
  }
 },
 "nbformat": 4,
 "nbformat_minor": 2
}
