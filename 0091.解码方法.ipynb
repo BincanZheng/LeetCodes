{
 "cells": [
  {
   "cell_type": "markdown",
   "metadata": {},
   "source": [
    "一条包含字母 A-Z 的消息通过以下方式进行了编码：  \n",
    "  \n",
    "'A' -> 1  \n",
    "'B' -> 2  \n",
    "...  \n",
    "'Z' -> 26  \n",
    "给定一个只包含数字的非空字符串，请计算解码方法的总数。   \n",
    "\n",
    "**示例 1:**  \n",
    "输入: \"12\"  \n",
    "输出: 2  \n",
    "解释: 它可以解码为 \"AB\"（1 2）或者 \"L\"（12）。  \n",
    "\n",
    "**示例 2:**  \n",
    "输入: \"226\"  \n",
    "输出: 3  \n",
    "解释: 它可以解码为 \"BZ\" (2 26), \"VF\" (22 6), 或者 \"BBF\" (2 2 6) 。  \n",
    "  \n",
    "来源：力扣（LeetCode）  \n",
    "链接：https://leetcode-cn.com/problems/decode-ways  \n",
    "著作权归领扣网络所有。商业转载请联系官方授权，非商业转载请注明出处。  "
   ]
  },
  {
   "cell_type": "code",
   "execution_count": 34,
   "metadata": {},
   "outputs": [],
   "source": [
    "class Solution:\n",
    "    def numDecodings(self, s: str) -> int:\n",
    "        if not s or s[0] == '0':\n",
    "            return 0\n",
    "        dp = [None] * len(s)\n",
    "        dp[0] = 1\n",
    "        if len(s) == 1:\n",
    "            return 1\n",
    "        else:\n",
    "            if s[1] == '0':\n",
    "                if int(s[0:2]) <= 26:\n",
    "                    dp[1] = 1\n",
    "                else:\n",
    "                    return 0\n",
    "            else:\n",
    "                if int(s[0:2]) <= 26:\n",
    "                    dp[1] = 2\n",
    "                else:\n",
    "                    dp[1] = 1\n",
    "        \n",
    "        for i in range(2,len(s)):\n",
    "            if s[i] == '0':\n",
    "                if s[i-1] == '0':\n",
    "                    return 0\n",
    "                elif int(s[i-1:i+1]) <= 26:\n",
    "                    dp[i] = dp[i-2]\n",
    "                else:\n",
    "                    return 0\n",
    "            else:\n",
    "                if s[i-1] == '0':\n",
    "                    dp[i] = dp[i-1]\n",
    "                else:\n",
    "                    if int(s[i-1:i+1]) <= 26:\n",
    "                        dp[i] = dp[i-1] + dp[i-2]\n",
    "                    else:\n",
    "                        dp[i] = dp[i-1]\n",
    "        print(dp)\n",
    "        return dp[len(s)-1]"
   ]
  },
  {
   "cell_type": "code",
   "execution_count": 35,
   "metadata": {},
   "outputs": [
    {
     "name": "stdout",
     "output_type": "stream",
     "text": [
      "[1, 2]\n"
     ]
    },
    {
     "data": {
      "text/plain": [
       "2"
      ]
     },
     "execution_count": 35,
     "metadata": {},
     "output_type": "execute_result"
    }
   ],
   "source": [
    "test = Solution\n",
    "s = '12'\n",
    "test.numDecodings(test,s)"
   ]
  },
  {
   "cell_type": "code",
   "execution_count": 36,
   "metadata": {},
   "outputs": [
    {
     "name": "stdout",
     "output_type": "stream",
     "text": [
      "[1, 2, 3, 5, 8]\n"
     ]
    },
    {
     "data": {
      "text/plain": [
       "8"
      ]
     },
     "execution_count": 36,
     "metadata": {},
     "output_type": "execute_result"
    }
   ],
   "source": [
    "test = Solution\n",
    "s = \"11111\"\n",
    "test.numDecodings(test,s)"
   ]
  },
  {
   "cell_type": "code",
   "execution_count": 37,
   "metadata": {},
   "outputs": [
    {
     "name": "stdout",
     "output_type": "stream",
     "text": [
      "[1, 2, 3]\n"
     ]
    },
    {
     "data": {
      "text/plain": [
       "3"
      ]
     },
     "execution_count": 37,
     "metadata": {},
     "output_type": "execute_result"
    }
   ],
   "source": [
    "test = Solution\n",
    "s = '226'\n",
    "test.numDecodings(test,s)"
   ]
  },
  {
   "cell_type": "code",
   "execution_count": null,
   "metadata": {},
   "outputs": [],
   "source": []
  }
 ],
 "metadata": {
  "kernelspec": {
   "display_name": "Python 3",
   "language": "python",
   "name": "python3"
  },
  "language_info": {
   "codemirror_mode": {
    "name": "ipython",
    "version": 3
   },
   "file_extension": ".py",
   "mimetype": "text/x-python",
   "name": "python",
   "nbconvert_exporter": "python",
   "pygments_lexer": "ipython3",
   "version": "3.7.4"
  }
 },
 "nbformat": 4,
 "nbformat_minor": 2
}
