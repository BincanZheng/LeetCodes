{
 "cells": [
  {
   "cell_type": "markdown",
   "metadata": {},
   "source": [
    "给定一个包含 n 个整数的数组 nums 和一个目标值 target，判断 nums 中是否存在四个元素 a，b，c 和 d ，使得 a + b + c + d 的值与 target 相等？找出所有满足条件且不重复的四元组。    \n",
    "  \n",
    "注意：  \n",
    "答案中不可以包含重复的四元组。  \n",
    "\n",
    "**示例：**  \n",
    "给定数组 nums = [1, 0, -1, 0, -2, 2]，和 target = 0。  \n",
    "  \n",
    "满足要求的四元组集合为：  \n",
    "[  \n",
    "  [-1,  0, 0, 1],  \n",
    "  [-2, -1, 1, 2],  \n",
    "  [-2,  0, 0, 2]  \n",
    "]  \n",
    "  \n",
    "来源：力扣（LeetCode）  \n",
    "链接：https://leetcode-cn.com/problems/4sum  \n",
    "著作权归领扣网络所有。商业转载请联系官方授权，非商业转载请注明出处。  "
   ]
  },
  {
   "cell_type": "code",
   "execution_count": 1,
   "metadata": {
    "ExecuteTime": {
     "end_time": "2020-07-17T08:11:08.622152Z",
     "start_time": "2020-07-17T08:11:08.619125Z"
    }
   },
   "outputs": [],
   "source": [
    "from typing import List"
   ]
  },
  {
   "cell_type": "code",
   "execution_count": 2,
   "metadata": {
    "ExecuteTime": {
     "end_time": "2020-07-17T08:11:08.635473Z",
     "start_time": "2020-07-17T08:11:08.624593Z"
    },
    "code_folding": []
   },
   "outputs": [],
   "source": [
    "## 傻瓜4 loops\n",
    "class Solution:\n",
    "    def fourSum(self, nums: List[int], target: int) -> List[List[int]]:\n",
    "        n = len(nums)\n",
    "        nums.sort()\n",
    "#         print(nums)\n",
    "        result = []\n",
    "        for i in range(n):\n",
    "            if i>0 and((target>=0 and nums[i]>target) or (target<0 and nums[i]>=0)):\n",
    "                return result\n",
    "            if i>0 and nums[i]==nums[i-1]:\n",
    "                continue\n",
    "            for j in range(i+1,n):\n",
    "                for k in range(j+1,n):\n",
    "                    for m in range(k+1,n):\n",
    "#                         print('i',nums[i],'j',nums[j],'k',nums[k],'m',nums[m])\n",
    "                        if nums[i]+nums[j]+nums[k]+nums[m] == target:\n",
    "                            if [nums[i],nums[j],nums[k],nums[m]] not in result:\n",
    "                                result.append([nums[i],nums[j],nums[k],nums[m]])\n",
    "        return result"
   ]
  },
  {
   "cell_type": "code",
   "execution_count": 3,
   "metadata": {
    "ExecuteTime": {
     "end_time": "2020-07-17T08:11:08.649528Z",
     "start_time": "2020-07-17T08:11:08.637558Z"
    }
   },
   "outputs": [],
   "source": [
    "# 双指针\n",
    "class Solution:\n",
    "    def fourSum(self, nums: List[int], target: int) -> List[List[int]]:\n",
    "        n = len(nums)\n",
    "        nums.sort()\n",
    "#         print(nums)\n",
    "        result = []\n",
    "        for i in range(n):\n",
    "            if ((target>=0 and nums[i]>target) or (target<0 and nums[i]>=0)):\n",
    "                return result\n",
    "            if i>0 and nums[i]==nums[i-1]:\n",
    "                continue\n",
    "            for j in range(i+1,n):\n",
    "                if j>i+1 and nums[j]==nums[j-1]:\n",
    "                    continue\n",
    "                k=j+1\n",
    "                m=n-1\n",
    "                while (k<m):\n",
    "#                     print('i',nums[i],'j',nums[j],'k',nums[k],'m',nums[m],result)\n",
    "                    if nums[i]+nums[j]+nums[k]+nums[m]==target:\n",
    "                        result.append([nums[i],nums[j],nums[k],nums[m]])\n",
    "                        while k<m and nums[k] == nums[k+1]:\n",
    "                            k=k+1\n",
    "                        while k<m and nums[m] == nums[m-1]:\n",
    "                            m=m-1\n",
    "                        k=k+1\n",
    "                        m=m-1\n",
    "                    elif nums[i]+nums[j]+nums[k]+nums[m]>target:\n",
    "                        m=m-1\n",
    "                    else:\n",
    "                        k=k+1\n",
    "        return result"
   ]
  },
  {
   "cell_type": "code",
   "execution_count": 4,
   "metadata": {
    "ExecuteTime": {
     "end_time": "2020-07-17T08:11:08.663536Z",
     "start_time": "2020-07-17T08:11:08.652518Z"
    }
   },
   "outputs": [
    {
     "data": {
      "text/plain": [
       "[[-2, -1, 1, 2], [-2, 0, 0, 2], [-1, 0, 0, 1]]"
      ]
     },
     "execution_count": 4,
     "metadata": {},
     "output_type": "execute_result"
    }
   ],
   "source": [
    "nums = [1, 0, -1, 0, -2, 2]\n",
    "target = 0\n",
    "test = Solution\n",
    "test.fourSum(test,nums,target)"
   ]
  },
  {
   "cell_type": "code",
   "execution_count": 5,
   "metadata": {
    "ExecuteTime": {
     "end_time": "2020-07-17T08:11:08.671537Z",
     "start_time": "2020-07-17T08:11:08.665374Z"
    }
   },
   "outputs": [
    {
     "data": {
      "text/plain": [
       "[[0, 4, 4, 4], [2, 2, 4, 4]]"
      ]
     },
     "execution_count": 5,
     "metadata": {},
     "output_type": "execute_result"
    }
   ],
   "source": [
    "nums = [0,4,-5,2,-2,4,2,-1,4]\n",
    "target = 12\n",
    "test = Solution\n",
    "test.fourSum(test,nums,target)"
   ]
  },
  {
   "cell_type": "code",
   "execution_count": 6,
   "metadata": {
    "ExecuteTime": {
     "end_time": "2020-07-17T08:11:08.682437Z",
     "start_time": "2020-07-17T08:11:08.674459Z"
    }
   },
   "outputs": [
    {
     "data": {
      "text/plain": [
       "[[-5, -4, -3, 1]]"
      ]
     },
     "execution_count": 6,
     "metadata": {},
     "output_type": "execute_result"
    }
   ],
   "source": [
    "nums = [1,-2,-5,-4,-3,3,3,5]\n",
    "target = -11\n",
    "test = Solution\n",
    "test.fourSum(test,nums,target)"
   ]
  },
  {
   "cell_type": "code",
   "execution_count": 7,
   "metadata": {
    "ExecuteTime": {
     "end_time": "2020-07-17T08:11:08.692412Z",
     "start_time": "2020-07-17T08:11:08.685430Z"
    }
   },
   "outputs": [
    {
     "data": {
      "text/plain": [
       "[[0, 0, 0, 0]]"
      ]
     },
     "execution_count": 7,
     "metadata": {},
     "output_type": "execute_result"
    }
   ],
   "source": [
    "nums = [0,0,0,0]\n",
    "target = 0\n",
    "test = Solution\n",
    "test.fourSum(test,nums,target)"
   ]
  },
  {
   "cell_type": "code",
   "execution_count": 8,
   "metadata": {
    "ExecuteTime": {
     "end_time": "2020-07-17T08:11:08.704380Z",
     "start_time": "2020-07-17T08:11:08.697399Z"
    }
   },
   "outputs": [
    {
     "data": {
      "text/plain": [
       "[[0, 0, 0, 0]]"
      ]
     },
     "execution_count": 8,
     "metadata": {},
     "output_type": "execute_result"
    }
   ],
   "source": [
    "nums = [1,4,-3,0,0,0,5,0]\n",
    "target = 0\n",
    "test = Solution\n",
    "test.fourSum(test,nums,target)"
   ]
  },
  {
   "cell_type": "code",
   "execution_count": 9,
   "metadata": {
    "ExecuteTime": {
     "end_time": "2020-07-17T08:11:08.792176Z",
     "start_time": "2020-07-17T08:11:08.707373Z"
    }
   },
   "outputs": [
    {
     "data": {
      "text/plain": [
       "[]"
      ]
     },
     "execution_count": 9,
     "metadata": {},
     "output_type": "execute_result"
    }
   ],
   "source": [
    "nums = [-497,-481,-481,-472,-471,-465,-422,-420,-413,-405,-388,-381,-366,-361,-359,-348,-334,-334,-318,-310,-305,-280,-273,-272,-262,-254,-248,-223,-208,-202,-196,-192,-189,-167,-165,-165,-156,-143,-136,-122,-120,-120,-108,-77,-50,-44,-34,-26,-17,-5,13,46,46,53,54,56,66,71,72,75,89,115,130,139,149,151,154,196,209,219,230,240,245,246,253,267,277,289,299,302,303,304,342,349,360,361,361,375,392,400,407,408,408,426,427,429,443,451,481]\n",
    "target = -5617\n",
    "test = Solution\n",
    "test.fourSum(test,nums,target)"
   ]
  },
  {
   "cell_type": "code",
   "execution_count": 10,
   "metadata": {
    "ExecuteTime": {
     "end_time": "2020-07-17T08:11:08.800166Z",
     "start_time": "2020-07-17T08:11:08.793218Z"
    }
   },
   "outputs": [
    {
     "data": {
      "text/plain": [
       "[[-2, -1, 1, 2], [-2, 0, 0, 2], [-1, 0, 0, 1]]"
      ]
     },
     "execution_count": 10,
     "metadata": {},
     "output_type": "execute_result"
    }
   ],
   "source": [
    "nums = [1,0,-1,0,-2,2]\n",
    "target = 0\n",
    "test = Solution\n",
    "test.fourSum(test,nums,target)"
   ]
  },
  {
   "cell_type": "code",
   "execution_count": 11,
   "metadata": {
    "ExecuteTime": {
     "end_time": "2020-07-17T08:11:08.808716Z",
     "start_time": "2020-07-17T08:11:08.801529Z"
    }
   },
   "outputs": [
    {
     "data": {
      "text/plain": [
       "[[-5, 1, 3, 5]]"
      ]
     },
     "execution_count": 11,
     "metadata": {},
     "output_type": "execute_result"
    }
   ],
   "source": [
    "nums = [5,5,3,5,1,-5,1,-2]\n",
    "target = 4\n",
    "test = Solution\n",
    "test.fourSum(test,nums,target)"
   ]
  },
  {
   "cell_type": "code",
   "execution_count": null,
   "metadata": {},
   "outputs": [],
   "source": []
  }
 ],
 "metadata": {
  "kernelspec": {
   "display_name": "Python 3",
   "language": "python",
   "name": "python3"
  },
  "language_info": {
   "codemirror_mode": {
    "name": "ipython",
    "version": 3
   },
   "file_extension": ".py",
   "mimetype": "text/x-python",
   "name": "python",
   "nbconvert_exporter": "python",
   "pygments_lexer": "ipython3",
   "version": "3.7.4"
  },
  "toc": {
   "base_numbering": 1,
   "nav_menu": {},
   "number_sections": true,
   "sideBar": true,
   "skip_h1_title": false,
   "title_cell": "Table of Contents",
   "title_sidebar": "Contents",
   "toc_cell": false,
   "toc_position": {},
   "toc_section_display": true,
   "toc_window_display": false
  },
  "varInspector": {
   "cols": {
    "lenName": 16,
    "lenType": 16,
    "lenVar": 40
   },
   "kernels_config": {
    "python": {
     "delete_cmd_postfix": "",
     "delete_cmd_prefix": "del ",
     "library": "var_list.py",
     "varRefreshCmd": "print(var_dic_list())"
    },
    "r": {
     "delete_cmd_postfix": ") ",
     "delete_cmd_prefix": "rm(",
     "library": "var_list.r",
     "varRefreshCmd": "cat(var_dic_list()) "
    }
   },
   "types_to_exclude": [
    "module",
    "function",
    "builtin_function_or_method",
    "instance",
    "_Feature"
   ],
   "window_display": false
  }
 },
 "nbformat": 4,
 "nbformat_minor": 2
}
