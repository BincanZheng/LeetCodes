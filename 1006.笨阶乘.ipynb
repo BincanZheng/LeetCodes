{
 "cells": [
  {
   "cell_type": "markdown",
   "metadata": {},
   "source": [
    "通常，正整数 n 的阶乘是所有小于或等于 n 的正整数的乘积。例如，factorial(10) = 10 * 9 * 8 * 7 * 6 * 5 * 4 * 3 * 2 * 1。  \n",
    "  \n",
    "相反，我们设计了一个笨阶乘 clumsy：在整数的递减序列中，我们以一个固定顺序的操作符序列来依次替换原有的乘法操作符：乘法(*)，除法(/)，加法(+)和减法(-)。  \n",
    "  \n",
    "例如，clumsy(10) = 10 * 9 / 8 + 7 - 6 * 5 / 4 + 3 - 2 * 1。然而，这些运算仍然使用通常的算术运算顺序：我们在任何加、减步骤之前执行所有的乘法和除法步骤，并且按从左到右处理乘法和除法步骤。  \n",
    "  \n",
    "另外，我们使用的除法是地板除法（floor division），所以 10 * 9 / 8 等于 11。这保证结果是一个整数。  \n",
    "  \n",
    "实现上面定义的笨函数：给定一个整数 N，它返回 N 的笨阶乘。  \n",
    "  \n",
    " \n",
    "\n",
    "**示例 1：**  \n",
    "输入：4  \n",
    "输出：7  \n",
    "解释：7 = 4 * 3 / 2 + 1  \n",
    "**示例 2：**  \n",
    "输入：10  \n",
    "输出：12  \n",
    "解释：12 = 10 * 9 / 8 + 7 - 6 * 5 / 4 + 3 - 2 * 1  \n",
    " \n",
    "提示：  \n",
    "1 <= N <= 10000  \n",
    "-2^31 <= answer <= 2^31 - 1  （答案保证符合 32 位整数。）  \n",
    "  \n",
    "来源：力扣（LeetCode）  \n",
    "链接：https://leetcode-cn.com/problems/clumsy-factorial  \n",
    "著作权归领扣网络所有。商业转载请联系官方授权，非商业转载请注明出处。"
   ]
  },
  {
   "cell_type": "code",
   "execution_count": 1,
   "metadata": {},
   "outputs": [],
   "source": [
    "class Solution:\n",
    "    def clumsy(self, N: int) -> int:\n",
    "        if N <= 4:\n",
    "            if N == 1:\n",
    "                ans -= 1\n",
    "            elif N==2:\n",
    "                ans -= 2\n",
    "            elif N==3:\n",
    "                ans -= 3*2\n",
    "            else:\n",
    "                ans = 4*3/2+1\n",
    "        else:\n",
    "            ans = int(N*(N-1)/(N-2)+(N-3))\n",
    "            print('+',N,'*',N-1,'/',N-2,'+',N-3,'=',ans)\n",
    "            N = N - 4\n",
    "            for i in range(0,N//4):\n",
    "                ans -= int(N*(N-1)/(N-2)-(N-3))\n",
    "                print(\"-\",N,'*',N-1,'/',N-2,'+',N-3,'=',ans)\n",
    "                N = N - 4\n",
    "            n = N%4\n",
    "            if n == 1:\n",
    "                ans -= 1\n",
    "            elif n==2:\n",
    "                ans -= 2\n",
    "            elif n==3:\n",
    "                ans -= 3*2\n",
    "            print(\"-\",N,'*',N-1 if N-1>0 else '','/',N-2 if N-2>0 else '','+',N-3 if N-3>0 else '','=',ans)\n",
    "        return int(round(ans,0))"
   ]
  },
  {
   "cell_type": "code",
   "execution_count": 2,
   "metadata": {},
   "outputs": [
    {
     "data": {
      "text/plain": [
       "7"
      ]
     },
     "execution_count": 2,
     "metadata": {},
     "output_type": "execute_result"
    }
   ],
   "source": [
    "N = 4\n",
    "test = Solution\n",
    "test.clumsy(test,N)"
   ]
  },
  {
   "cell_type": "code",
   "execution_count": 3,
   "metadata": {},
   "outputs": [
    {
     "name": "stdout",
     "output_type": "stream",
     "text": [
      "+ 5 * 4 / 3 + 2 = 8\n",
      "- 1 *  /  +  = 7\n"
     ]
    },
    {
     "data": {
      "text/plain": [
       "7"
      ]
     },
     "execution_count": 3,
     "metadata": {},
     "output_type": "execute_result"
    }
   ],
   "source": [
    "N = 5\n",
    "test = Solution\n",
    "test.clumsy(test,N)"
   ]
  },
  {
   "cell_type": "code",
   "execution_count": 4,
   "metadata": {},
   "outputs": [
    {
     "name": "stdout",
     "output_type": "stream",
     "text": [
      "+ 10 * 9 / 8 + 7 = 18\n",
      "- 6 * 5 / 4 + 3 = 14\n",
      "- 2 * 1 /  +  = 12\n"
     ]
    },
    {
     "data": {
      "text/plain": [
       "12"
      ]
     },
     "execution_count": 4,
     "metadata": {},
     "output_type": "execute_result"
    }
   ],
   "source": [
    "N = 10\n",
    "test = Solution\n",
    "test.clumsy(test,N)"
   ]
  },
  {
   "cell_type": "code",
   "execution_count": 5,
   "metadata": {},
   "outputs": [
    {
     "data": {
      "text/plain": [
       "-1"
      ]
     },
     "execution_count": 5,
     "metadata": {},
     "output_type": "execute_result"
    }
   ],
   "source": [
    "# import cv2\n",
    "# import numpy as np\n",
    "\n",
    "# #读入图片：默认彩色图，cv2.IMREAD_GRAYSCALE灰度图，cv2.IMREAD_UNCHANGED包含alpha通道\n",
    "# img = cv2.imread(r'D:\\Anaconda Library\\LeeCodes\\results\\1006.png')\n",
    "# cv2.imshow('LeeCode Result',img)\n",
    "# # print(img.shape) # (h,w,c)\n",
    "# # print(img.size) # 像素总数目\n",
    "# # print(img.dtype)\n",
    "# # print(img)\n",
    "# cv2.waitKey()"
   ]
  }
 ],
 "metadata": {
  "kernelspec": {
   "display_name": "Python 3",
   "language": "python",
   "name": "python3"
  },
  "language_info": {
   "codemirror_mode": {
    "name": "ipython",
    "version": 3
   },
   "file_extension": ".py",
   "mimetype": "text/x-python",
   "name": "python",
   "nbconvert_exporter": "python",
   "pygments_lexer": "ipython3",
   "version": "3.7.4"
  }
 },
 "nbformat": 4,
 "nbformat_minor": 2
}
