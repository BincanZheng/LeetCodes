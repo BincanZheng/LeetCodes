{
 "cells": [
  {
   "cell_type": "markdown",
   "metadata": {},
   "source": [
    "排排坐，分糖果。  \n",
    "我们买了一些糖果 candies，打算把它们分给排好队的 n = num_people 个小朋友。  \n",
    "给第一个小朋友 1 颗糖果，第二个小朋友 2 颗，依此类推，直到给最后一个小朋友 n 颗糖果。  \n",
    "然后，我们再回到队伍的起点，给第一个小朋友 n + 1 颗糖果，第二个小朋友 n + 2 颗，依此类推，直到给最后一个小朋友 2 * n 颗糖果。  \n",
    "重复上述过程（每次都比上一次多给出一颗糖果，当到达队伍终点后再次从队伍起点开始），直到我们分完所有的糖果。注意，就算我们手中的剩下糖果数不够（不比前一次发出的糖果多），这些糖果也会全部发给当前的小朋友。  \n",
    "返回一个长度为 num_people、元素之和为 candies 的数组，以表示糖果的最终分发情况（即 ans[i] 表示第 i 个小朋友分到的糖果数）。  \n",
    "\n",
    "**示例 1：**  \n",
    "输入：candies = 7, num_people = 4  \n",
    "输出：[1,2,3,1]  \n",
    "解释：  \n",
    "第一次，ans[0] += 1，数组变为 [1,0,0,0]。  \n",
    "第二次，ans[1] += 2，数组变为 [1,2,0,0]。  \n",
    "第三次，ans[2] += 3，数组变为 [1,2,3,0]。  \n",
    "第四次，ans[3] += 1（因为此时只剩下 1 颗糖果），最终数组变为 [1,2,3,1]。  \n",
    "\n",
    "**示例 2：**  \n",
    "输入：candies = 10, num_people = 3  \n",
    "输出：[5,2,3]  \n",
    "解释：  \n",
    "第一次，ans[0] += 1，数组变为 [1,0,0]。  \n",
    "第二次，ans[1] += 2，数组变为 [1,2,0]。  \n",
    "第三次，ans[2] += 3，数组变为 [1,2,3]。  \n",
    "第四次，ans[0] += 4，最终数组变为 [5,2,3]。  \n",
    "\n",
    "来源：力扣（LeetCode）  \n",
    "链接：https://leetcode-cn.com/problems/distribute-candies-to-people  \n",
    "著作权归领扣网络所有。商业转载请联系官方授权，非商业转载请注明出处。  "
   ]
  },
  {
   "cell_type": "code",
   "execution_count": 1,
   "metadata": {},
   "outputs": [],
   "source": [
    "from typing import List"
   ]
  },
  {
   "cell_type": "code",
   "execution_count": 12,
   "metadata": {},
   "outputs": [],
   "source": [
    "class Solution:\n",
    "    def distributeCandies(self, candies: int, num_people: int) -> List[int]:\n",
    "        ans = [0]*num_people\n",
    "        give_candies = 1\n",
    "        i = 0\n",
    "        while candies >0:\n",
    "            if give_candies > candies: give_candies = candies \n",
    "            ans[i] += give_candies\n",
    "            i = i+1 if i<num_people-1 else 0\n",
    "            candies -= give_candies\n",
    "            give_candies += 1\n",
    "        return ans"
   ]
  },
  {
   "cell_type": "code",
   "execution_count": 13,
   "metadata": {},
   "outputs": [
    {
     "data": {
      "text/plain": [
       "[1, 2, 3, 1]"
      ]
     },
     "execution_count": 13,
     "metadata": {},
     "output_type": "execute_result"
    }
   ],
   "source": [
    "test = Solution\n",
    "candies = 7\n",
    "n = 4\n",
    "test.distributeCandies(test,candies,n)"
   ]
  },
  {
   "cell_type": "code",
   "execution_count": 11,
   "metadata": {},
   "outputs": [
    {
     "data": {
      "text/plain": [
       "[5, 2, 3]"
      ]
     },
     "execution_count": 11,
     "metadata": {},
     "output_type": "execute_result"
    }
   ],
   "source": [
    "test = Solution\n",
    "candies = 10\n",
    "n = 3\n",
    "test.distributeCandies(test,candies,n)"
   ]
  }
 ],
 "metadata": {
  "kernelspec": {
   "display_name": "Python 3",
   "language": "python",
   "name": "python3"
  },
  "language_info": {
   "codemirror_mode": {
    "name": "ipython",
    "version": 3
   },
   "file_extension": ".py",
   "mimetype": "text/x-python",
   "name": "python",
   "nbconvert_exporter": "python",
   "pygments_lexer": "ipython3",
   "version": "3.7.4"
  }
 },
 "nbformat": 4,
 "nbformat_minor": 2
}
