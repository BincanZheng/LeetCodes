{
 "cells": [
  {
   "cell_type": "markdown",
   "metadata": {},
   "source": [
    "最初在一个记事本上只有一个字符 'A'。你每次可以对这个记事本进行两种操作：  \n",
    "  \n",
    "Copy All (复制全部) : 你可以复制这个记事本中的所有字符(部分的复制是不允许的)。  \n",
    "Paste (粘贴) : 你可以粘贴你上一次复制的字符。  \n",
    "给定一个数字 n 。你需要使用最少的操作次数，在记事本中打印出恰好 n 个 'A'。输出能够打印出 n 个 'A' 的最少操作次数。  \n",
    "  \n",
    "**示例 1:**  \n",
    "  \n",
    "输入: 3  \n",
    "输出: 3  \n",
    "解释:  \n",
    "最初, 我们只有一个字符 'A'。   \n",
    "第 1 步, 我们使用 Copy All 操作。   \n",
    "第 2 步, 我们使用 Paste 操作来获得 'AA'。  \n",
    "第 3 步, 我们使用 Paste 操作来获得 'AAA'。  \n",
    "  \n",
    "来源：力扣（LeetCode）  \n",
    "链接：https://leetcode-cn.com/problems/2-keys-keyboard  \n",
    "著作权归领扣网络所有。商业转载请联系官方授权，非商业转载请注明出处。  "
   ]
  },
  {
   "cell_type": "code",
   "execution_count": 1,
   "metadata": {
    "ExecuteTime": {
     "end_time": "2020-07-06T03:04:46.472117Z",
     "start_time": "2020-07-06T03:04:46.466133Z"
    }
   },
   "outputs": [],
   "source": [
    "class Solution:\n",
    "    def minSteps(self, n: int) -> int:\n",
    "        if n==1:\n",
    "            return 0\n",
    "        for i in range(int(n/2),1,-1):\n",
    "            if n%i == 0:\n",
    "                return Solution.minSteps(self,i)+n//i\n",
    "        return n"
   ]
  },
  {
   "cell_type": "code",
   "execution_count": 2,
   "metadata": {
    "ExecuteTime": {
     "end_time": "2020-07-06T03:04:46.482088Z",
     "start_time": "2020-07-06T03:04:46.474110Z"
    }
   },
   "outputs": [],
   "source": [
    "test = Solution"
   ]
  },
  {
   "cell_type": "code",
   "execution_count": 3,
   "metadata": {
    "ExecuteTime": {
     "end_time": "2020-07-06T03:04:46.501039Z",
     "start_time": "2020-07-06T03:04:46.485081Z"
    }
   },
   "outputs": [
    {
     "data": {
      "text/plain": [
       "21"
      ]
     },
     "execution_count": 3,
     "metadata": {},
     "output_type": "execute_result"
    }
   ],
   "source": [
    "test.minSteps(test,1000)"
   ]
  },
  {
   "cell_type": "code",
   "execution_count": null,
   "metadata": {},
   "outputs": [],
   "source": []
  }
 ],
 "metadata": {
  "kernelspec": {
   "display_name": "Python 3",
   "language": "python",
   "name": "python3"
  },
  "language_info": {
   "codemirror_mode": {
    "name": "ipython",
    "version": 3
   },
   "file_extension": ".py",
   "mimetype": "text/x-python",
   "name": "python",
   "nbconvert_exporter": "python",
   "pygments_lexer": "ipython3",
   "version": "3.7.4"
  },
  "toc": {
   "base_numbering": 1,
   "nav_menu": {},
   "number_sections": true,
   "sideBar": true,
   "skip_h1_title": false,
   "title_cell": "Table of Contents",
   "title_sidebar": "Contents",
   "toc_cell": false,
   "toc_position": {},
   "toc_section_display": true,
   "toc_window_display": false
  },
  "varInspector": {
   "cols": {
    "lenName": 16,
    "lenType": 16,
    "lenVar": 40
   },
   "kernels_config": {
    "python": {
     "delete_cmd_postfix": "",
     "delete_cmd_prefix": "del ",
     "library": "var_list.py",
     "varRefreshCmd": "print(var_dic_list())"
    },
    "r": {
     "delete_cmd_postfix": ") ",
     "delete_cmd_prefix": "rm(",
     "library": "var_list.r",
     "varRefreshCmd": "cat(var_dic_list()) "
    }
   },
   "types_to_exclude": [
    "module",
    "function",
    "builtin_function_or_method",
    "instance",
    "_Feature"
   ],
   "window_display": false
  }
 },
 "nbformat": 4,
 "nbformat_minor": 2
}
